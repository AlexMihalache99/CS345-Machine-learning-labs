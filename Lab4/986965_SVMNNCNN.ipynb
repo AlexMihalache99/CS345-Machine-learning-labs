{
 "cells": [
  {
   "cell_type": "markdown",
   "id": "8b022ebc-0ade-443f-95e7-ad63d6a3ceae",
   "metadata": {},
   "source": [
    "Catalin Alexandru Mihalache 08.11.2021 986965"
   ]
  },
  {
   "cell_type": "code",
   "execution_count": 10,
   "id": "7fef6625-0712-49d6-9212-0ddad8f10a5d",
   "metadata": {},
   "outputs": [],
   "source": [
    "import tensorflow as tf\n",
    "import numpy as np\n",
    "from sklearn.svm import SVC\n",
    "from sklearn.preprocessing import StandardScaler\n",
    "from sklearn.model_selection import train_test_split\n",
    "import matplotlib.pyplot as plt"
   ]
  },
  {
   "cell_type": "markdown",
   "id": "03211eb9-d5d8-4ed8-b3e0-72e7b829ae6f",
   "metadata": {},
   "source": [
    "TASK 4.1"
   ]
  },
  {
   "cell_type": "code",
   "execution_count": 11,
   "id": "94ccfd8f-9d6e-4702-8261-f2b1cea868a8",
   "metadata": {},
   "outputs": [],
   "source": [
    "wine_data = np.load('wineData.npy')\n",
    "wine_labels = np.load('wineLabels.npy')\n",
    "\n",
    "train_data, test_data, train_labels, test_labels = train_test_split(wine_data, wine_labels, test_size=0.2)"
   ]
  },
  {
   "cell_type": "code",
   "execution_count": 12,
   "id": "85971079-3a39-4e87-9d2c-99312ff60fa4",
   "metadata": {},
   "outputs": [
    {
     "name": "stdout",
     "output_type": "stream",
     "text": [
      "Number of features: 13\n",
      "Number of training samples: 142\n",
      "Number of testing samples: 36\n",
      "Number of classes: 3\n",
      "Minimums of the features are: [1.103e+01 7.400e-01 1.360e+00 1.060e+01 7.800e+01 9.800e-01 3.400e-01\n",
      " 1.400e-01 4.200e-01 1.280e+00 5.400e-01 1.270e+00 2.780e+02]\n",
      "Maximums of the features are: [1.483e+01 5.800e+00 3.230e+00 3.000e+01 1.620e+02 3.880e+00 5.080e+00\n",
      " 6.600e-01 3.580e+00 1.300e+01 1.710e+00 3.920e+00 1.680e+03]\n"
     ]
    }
   ],
   "source": [
    "print(f'Number of features: {train_data.shape[1]}')\n",
    "print(f'Number of training samples: {train_data.shape[0]}')\n",
    "print(f'Number of testing samples: {test_data.shape[0]}')\n",
    "print(f'Number of classes: {len(np.unique(train_labels))}')\n",
    "print(f'Minimums of the features are: {train_data.min(0)}')\n",
    "print(f'Maximums of the features are: {train_data.max(0)}')"
   ]
  },
  {
   "cell_type": "code",
   "execution_count": 13,
   "id": "77fea2db-e56b-4534-a96c-b6305665a99e",
   "metadata": {},
   "outputs": [],
   "source": [
    "scaler = StandardScaler()\n",
    "scaler.fit(train_data)\n",
    "train_data = scaler.transform(train_data)\n",
    "test_data = scaler.transform(test_data)"
   ]
  },
  {
   "cell_type": "code",
   "execution_count": 27,
   "id": "925a076c-56f9-4165-801f-81ce417388e8",
   "metadata": {},
   "outputs": [
    {
     "data": {
      "text/plain": [
       "Text(0.5, 1.0, 'Predicted Labels')"
      ]
     },
     "execution_count": 27,
     "metadata": {},
     "output_type": "execute_result"
    },
    {
     "data": {
      "image/png": "[encoded data removed]",
      "text/plain": [
       "<Figure size 720x360 with 2 Axes>"
      ]
     },
     "metadata": {
      "needs_background": "light"
     },
     "output_type": "display_data"
    }
   ],
   "source": [
    "svc = SVC()\n",
    "svc.fit(train_data, train_labels)\n",
    "\n",
    "predicted_labels = svc.predict(test_data)\n",
    "\n",
    "plt.figure(figsize=[10,5])\n",
    "plt.subplot(121)\n",
    "plt.scatter(test_data[:,0], test_data[:,1], c=test_labels)\n",
    "plt.xlabel('Feature Dimension 0')\n",
    "plt.ylabel('Feature Dimension 1')\n",
    "plt.title('Ground Truth')\n",
    "\n",
    "plt.subplot(122)\n",
    "plt.scatter(test_data[:,0], test_data[:,1], c=predicted_labels)\n",
    "plt.xlabel('Feature Dimension 0')\n",
    "plt.title('Predicted Labels')"
   ]
  },
  {
   "cell_type": "markdown",
   "id": "9281f65c-af88-4cab-a246-a6f4cb543d05",
   "metadata": {},
   "source": [
    "TASK 4.2"
   ]
  },
  {
   "cell_type": "code",
   "execution_count": 71,
   "id": "23e6ca98-5f77-46ba-8eb4-d4e9a1d8b928",
   "metadata": {},
   "outputs": [
    {
     "name": "stdout",
     "output_type": "stream",
     "text": [
      "Epoch 1/100\n",
      "4/4 [==============================] - 0s 29ms/step - loss: 1.4771 - sparse_categorical_accuracy: 0.3097 - val_loss: 1.6836 - val_sparse_categorical_accuracy: 0.1724\n",
      "Epoch 2/100\n",
      "4/4 [==============================] - 0s 7ms/step - loss: 1.3776 - sparse_categorical_accuracy: 0.3097 - val_loss: 1.5411 - val_sparse_categorical_accuracy: 0.1724\n",
      "Epoch 3/100\n",
      "4/4 [==============================] - 0s 5ms/step - loss: 1.2922 - sparse_categorical_accuracy: 0.3186 - val_loss: 1.4358 - val_sparse_categorical_accuracy: 0.1724\n",
      "Epoch 4/100\n",
      "4/4 [==============================] - 0s 5ms/step - loss: 1.2285 - sparse_categorical_accuracy: 0.3363 - val_loss: 1.3516 - val_sparse_categorical_accuracy: 0.2069\n",
      "Epoch 5/100\n",
      "4/4 [==============================] - 0s 5ms/step - loss: 1.1776 - sparse_categorical_accuracy: 0.3540 - val_loss: 1.2760 - val_sparse_categorical_accuracy: 0.2069\n",
      "Epoch 6/100\n",
      "4/4 [==============================] - 0s 5ms/step - loss: 1.1316 - sparse_categorical_accuracy: 0.3717 - val_loss: 1.2165 - val_sparse_categorical_accuracy: 0.2414\n",
      "Epoch 7/100\n",
      "4/4 [==============================] - 0s 5ms/step - loss: 1.0951 - sparse_categorical_accuracy: 0.3894 - val_loss: 1.1661 - val_sparse_categorical_accuracy: 0.2759\n",
      "Epoch 8/100\n",
      "4/4 [==============================] - 0s 5ms/step - loss: 1.0638 - sparse_categorical_accuracy: 0.4159 - val_loss: 1.1220 - val_sparse_categorical_accuracy: 0.2759\n",
      "Epoch 9/100\n",
      "4/4 [==============================] - 0s 5ms/step - loss: 1.0351 - sparse_categorical_accuracy: 0.4425 - val_loss: 1.0827 - val_sparse_categorical_accuracy: 0.3448\n",
      "Epoch 10/100\n",
      "4/4 [==============================] - 0s 4ms/step - loss: 1.0093 - sparse_categorical_accuracy: 0.4867 - val_loss: 1.0479 - val_sparse_categorical_accuracy: 0.3448\n",
      "Epoch 11/100\n",
      "4/4 [==============================] - 0s 5ms/step - loss: 0.9867 - sparse_categorical_accuracy: 0.5133 - val_loss: 1.0175 - val_sparse_categorical_accuracy: 0.3448\n",
      "Epoch 12/100\n",
      "4/4 [==============================] - 0s 5ms/step - loss: 0.9657 - sparse_categorical_accuracy: 0.5133 - val_loss: 0.9920 - val_sparse_categorical_accuracy: 0.4138\n",
      "Epoch 13/100\n",
      "4/4 [==============================] - 0s 5ms/step - loss: 0.9470 - sparse_categorical_accuracy: 0.5398 - val_loss: 0.9684 - val_sparse_categorical_accuracy: 0.4138\n",
      "Epoch 14/100\n",
      "4/4 [==============================] - 0s 5ms/step - loss: 0.9296 - sparse_categorical_accuracy: 0.5487 - val_loss: 0.9463 - val_sparse_categorical_accuracy: 0.5172\n",
      "Epoch 15/100\n",
      "4/4 [==============================] - 0s 5ms/step - loss: 0.9128 - sparse_categorical_accuracy: 0.5752 - val_loss: 0.9262 - val_sparse_categorical_accuracy: 0.5172\n",
      "Epoch 16/100\n",
      "4/4 [==============================] - 0s 5ms/step - loss: 0.8976 - sparse_categorical_accuracy: 0.5929 - val_loss: 0.9080 - val_sparse_categorical_accuracy: 0.5517\n",
      "Epoch 17/100\n",
      "4/4 [==============================] - 0s 7ms/step - loss: 0.8819 - sparse_categorical_accuracy: 0.6106 - val_loss: 0.8906 - val_sparse_categorical_accuracy: 0.5517\n",
      "Epoch 18/100\n",
      "4/4 [==============================] - 0s 5ms/step - loss: 0.8672 - sparse_categorical_accuracy: 0.6106 - val_loss: 0.8739 - val_sparse_categorical_accuracy: 0.5517\n",
      "Epoch 19/100\n",
      "4/4 [==============================] - 0s 5ms/step - loss: 0.8532 - sparse_categorical_accuracy: 0.6195 - val_loss: 0.8576 - val_sparse_categorical_accuracy: 0.5517\n",
      "Epoch 20/100\n",
      "4/4 [==============================] - 0s 5ms/step - loss: 0.8388 - sparse_categorical_accuracy: 0.6372 - val_loss: 0.8418 - val_sparse_categorical_accuracy: 0.5862\n",
      "Epoch 21/100\n",
      "4/4 [==============================] - 0s 5ms/step - loss: 0.8250 - sparse_categorical_accuracy: 0.6637 - val_loss: 0.8259 - val_sparse_categorical_accuracy: 0.5862\n",
      "Epoch 22/100\n",
      "4/4 [==============================] - 0s 4ms/step - loss: 0.8112 - sparse_categorical_accuracy: 0.6726 - val_loss: 0.8124 - val_sparse_categorical_accuracy: 0.5862\n",
      "Epoch 23/100\n",
      "4/4 [==============================] - 0s 5ms/step - loss: 0.7983 - sparse_categorical_accuracy: 0.6726 - val_loss: 0.7993 - val_sparse_categorical_accuracy: 0.5862\n",
      "Epoch 24/100\n",
      "4/4 [==============================] - 0s 5ms/step - loss: 0.7848 - sparse_categorical_accuracy: 0.6991 - val_loss: 0.7859 - val_sparse_categorical_accuracy: 0.5862\n",
      "Epoch 25/100\n",
      "4/4 [==============================] - 0s 5ms/step - loss: 0.7712 - sparse_categorical_accuracy: 0.7080 - val_loss: 0.7740 - val_sparse_categorical_accuracy: 0.5862\n",
      "Epoch 26/100\n",
      "4/4 [==============================] - 0s 5ms/step - loss: 0.7583 - sparse_categorical_accuracy: 0.7257 - val_loss: 0.7626 - val_sparse_categorical_accuracy: 0.5862\n",
      "Epoch 27/100\n",
      "4/4 [==============================] - 0s 5ms/step - loss: 0.7459 - sparse_categorical_accuracy: 0.7257 - val_loss: 0.7516 - val_sparse_categorical_accuracy: 0.5862\n",
      "Epoch 28/100\n",
      "4/4 [==============================] - 0s 5ms/step - loss: 0.7332 - sparse_categorical_accuracy: 0.7434 - val_loss: 0.7408 - val_sparse_categorical_accuracy: 0.5862\n",
      "Epoch 29/100\n",
      "4/4 [==============================] - 0s 4ms/step - loss: 0.7211 - sparse_categorical_accuracy: 0.7699 - val_loss: 0.7305 - val_sparse_categorical_accuracy: 0.5862\n",
      "Epoch 30/100\n",
      "4/4 [==============================] - 0s 5ms/step - loss: 0.7092 - sparse_categorical_accuracy: 0.7699 - val_loss: 0.7210 - val_sparse_categorical_accuracy: 0.6207\n",
      "Epoch 31/100\n",
      "4/4 [==============================] - 0s 5ms/step - loss: 0.6972 - sparse_categorical_accuracy: 0.7788 - val_loss: 0.7114 - val_sparse_categorical_accuracy: 0.6207\n",
      "Epoch 32/100\n",
      "4/4 [==============================] - 0s 8ms/step - loss: 0.6859 - sparse_categorical_accuracy: 0.8142 - val_loss: 0.7023 - val_sparse_categorical_accuracy: 0.6207\n",
      "Epoch 33/100\n",
      "4/4 [==============================] - 0s 5ms/step - loss: 0.6749 - sparse_categorical_accuracy: 0.8142 - val_loss: 0.6932 - val_sparse_categorical_accuracy: 0.6207\n",
      "Epoch 34/100\n",
      "4/4 [==============================] - 0s 5ms/step - loss: 0.6644 - sparse_categorical_accuracy: 0.8142 - val_loss: 0.6843 - val_sparse_categorical_accuracy: 0.6207\n",
      "Epoch 35/100\n",
      "4/4 [==============================] - 0s 5ms/step - loss: 0.6536 - sparse_categorical_accuracy: 0.8319 - val_loss: 0.6761 - val_sparse_categorical_accuracy: 0.6552\n",
      "Epoch 36/100\n",
      "4/4 [==============================] - 0s 5ms/step - loss: 0.6428 - sparse_categorical_accuracy: 0.8319 - val_loss: 0.6683 - val_sparse_categorical_accuracy: 0.6552\n",
      "Epoch 37/100\n",
      "4/4 [==============================] - 0s 5ms/step - loss: 0.6324 - sparse_categorical_accuracy: 0.8319 - val_loss: 0.6606 - val_sparse_categorical_accuracy: 0.6897\n",
      "Epoch 38/100\n",
      "4/4 [==============================] - 0s 5ms/step - loss: 0.6219 - sparse_categorical_accuracy: 0.8319 - val_loss: 0.6528 - val_sparse_categorical_accuracy: 0.6897\n",
      "Epoch 39/100\n",
      "4/4 [==============================] - 0s 5ms/step - loss: 0.6121 - sparse_categorical_accuracy: 0.8496 - val_loss: 0.6458 - val_sparse_categorical_accuracy: 0.6897\n",
      "Epoch 40/100\n",
      "4/4 [==============================] - 0s 5ms/step - loss: 0.6027 - sparse_categorical_accuracy: 0.8496 - val_loss: 0.6382 - val_sparse_categorical_accuracy: 0.6897\n",
      "Epoch 41/100\n",
      "4/4 [==============================] - 0s 5ms/step - loss: 0.5932 - sparse_categorical_accuracy: 0.8496 - val_loss: 0.6304 - val_sparse_categorical_accuracy: 0.6897\n",
      "Epoch 42/100\n",
      "4/4 [==============================] - 0s 5ms/step - loss: 0.5839 - sparse_categorical_accuracy: 0.8496 - val_loss: 0.6234 - val_sparse_categorical_accuracy: 0.6897\n",
      "Epoch 43/100\n",
      "4/4 [==============================] - 0s 5ms/step - loss: 0.5750 - sparse_categorical_accuracy: 0.8496 - val_loss: 0.6160 - val_sparse_categorical_accuracy: 0.7241\n",
      "Epoch 44/100\n",
      "4/4 [==============================] - 0s 5ms/step - loss: 0.5663 - sparse_categorical_accuracy: 0.8496 - val_loss: 0.6091 - val_sparse_categorical_accuracy: 0.7241\n",
      "Epoch 45/100\n",
      "4/4 [==============================] - 0s 5ms/step - loss: 0.5577 - sparse_categorical_accuracy: 0.8496 - val_loss: 0.6021 - val_sparse_categorical_accuracy: 0.7241\n",
      "Epoch 46/100\n",
      "4/4 [==============================] - 0s 5ms/step - loss: 0.5493 - sparse_categorical_accuracy: 0.8496 - val_loss: 0.5958 - val_sparse_categorical_accuracy: 0.7241\n",
      "Epoch 47/100\n",
      "4/4 [==============================] - 0s 7ms/step - loss: 0.5411 - sparse_categorical_accuracy: 0.8496 - val_loss: 0.5896 - val_sparse_categorical_accuracy: 0.7586\n",
      "Epoch 48/100\n",
      "4/4 [==============================] - 0s 5ms/step - loss: 0.5331 - sparse_categorical_accuracy: 0.8496 - val_loss: 0.5834 - val_sparse_categorical_accuracy: 0.7586\n",
      "Epoch 49/100\n",
      "4/4 [==============================] - ETA: 0s - loss: 0.4995 - sparse_categorical_accuracy: 0.875 - 0s 5ms/step - loss: 0.5254 - sparse_categorical_accuracy: 0.8584 - val_loss: 0.5772 - val_sparse_categorical_accuracy: 0.7586\n",
      "Epoch 50/100\n",
      "4/4 [==============================] - 0s 5ms/step - loss: 0.5176 - sparse_categorical_accuracy: 0.8673 - val_loss: 0.5716 - val_sparse_categorical_accuracy: 0.7586\n",
      "Epoch 51/100\n",
      "4/4 [==============================] - 0s 5ms/step - loss: 0.5095 - sparse_categorical_accuracy: 0.8673 - val_loss: 0.5655 - val_sparse_categorical_accuracy: 0.7931\n",
      "Epoch 52/100\n",
      "4/4 [==============================] - 0s 5ms/step - loss: 0.5018 - sparse_categorical_accuracy: 0.8673 - val_loss: 0.5597 - val_sparse_categorical_accuracy: 0.7931\n",
      "Epoch 53/100\n",
      "4/4 [==============================] - 0s 6ms/step - loss: 0.4947 - sparse_categorical_accuracy: 0.8673 - val_loss: 0.5542 - val_sparse_categorical_accuracy: 0.7931\n",
      "Epoch 54/100\n",
      "4/4 [==============================] - 0s 5ms/step - loss: 0.4872 - sparse_categorical_accuracy: 0.8673 - val_loss: 0.5488 - val_sparse_categorical_accuracy: 0.7931\n",
      "Epoch 55/100\n",
      "4/4 [==============================] - 0s 5ms/step - loss: 0.4804 - sparse_categorical_accuracy: 0.8673 - val_loss: 0.5436 - val_sparse_categorical_accuracy: 0.7931\n",
      "Epoch 56/100\n",
      "4/4 [==============================] - 0s 5ms/step - loss: 0.4733 - sparse_categorical_accuracy: 0.8673 - val_loss: 0.5378 - val_sparse_categorical_accuracy: 0.7931\n",
      "Epoch 57/100\n",
      "4/4 [==============================] - 0s 5ms/step - loss: 0.4666 - sparse_categorical_accuracy: 0.8761 - val_loss: 0.5326 - val_sparse_categorical_accuracy: 0.7931\n",
      "Epoch 58/100\n",
      "4/4 [==============================] - 0s 5ms/step - loss: 0.4600 - sparse_categorical_accuracy: 0.8761 - val_loss: 0.5272 - val_sparse_categorical_accuracy: 0.7931\n",
      "Epoch 59/100\n",
      "4/4 [==============================] - 0s 5ms/step - loss: 0.4535 - sparse_categorical_accuracy: 0.8761 - val_loss: 0.5216 - val_sparse_categorical_accuracy: 0.7931\n",
      "Epoch 60/100\n",
      "4/4 [==============================] - 0s 5ms/step - loss: 0.4472 - sparse_categorical_accuracy: 0.8938 - val_loss: 0.5170 - val_sparse_categorical_accuracy: 0.7931\n",
      "Epoch 61/100\n",
      "4/4 [==============================] - 0s 6ms/step - loss: 0.4407 - sparse_categorical_accuracy: 0.8938 - val_loss: 0.5125 - val_sparse_categorical_accuracy: 0.7931\n",
      "Epoch 62/100\n",
      "4/4 [==============================] - 0s 5ms/step - loss: 0.4346 - sparse_categorical_accuracy: 0.8938 - val_loss: 0.5077 - val_sparse_categorical_accuracy: 0.7931\n",
      "Epoch 63/100\n",
      "4/4 [==============================] - 0s 5ms/step - loss: 0.4284 - sparse_categorical_accuracy: 0.8938 - val_loss: 0.5028 - val_sparse_categorical_accuracy: 0.7931\n",
      "Epoch 64/100\n",
      "4/4 [==============================] - 0s 5ms/step - loss: 0.4224 - sparse_categorical_accuracy: 0.8938 - val_loss: 0.4976 - val_sparse_categorical_accuracy: 0.8276\n",
      "Epoch 65/100\n",
      "4/4 [==============================] - 0s 5ms/step - loss: 0.4163 - sparse_categorical_accuracy: 0.9027 - val_loss: 0.4922 - val_sparse_categorical_accuracy: 0.8276\n",
      "Epoch 66/100\n",
      "4/4 [==============================] - 0s 5ms/step - loss: 0.4104 - sparse_categorical_accuracy: 0.9204 - val_loss: 0.4875 - val_sparse_categorical_accuracy: 0.8276\n",
      "Epoch 67/100\n",
      "4/4 [==============================] - 0s 5ms/step - loss: 0.4049 - sparse_categorical_accuracy: 0.9204 - val_loss: 0.4816 - val_sparse_categorical_accuracy: 0.8276\n",
      "Epoch 68/100\n",
      "4/4 [==============================] - 0s 5ms/step - loss: 0.3990 - sparse_categorical_accuracy: 0.9204 - val_loss: 0.4770 - val_sparse_categorical_accuracy: 0.8276\n",
      "Epoch 69/100\n",
      "4/4 [==============================] - 0s 5ms/step - loss: 0.3932 - sparse_categorical_accuracy: 0.9204 - val_loss: 0.4724 - val_sparse_categorical_accuracy: 0.8276\n",
      "Epoch 70/100\n",
      "4/4 [==============================] - 0s 5ms/step - loss: 0.3876 - sparse_categorical_accuracy: 0.9292 - val_loss: 0.4681 - val_sparse_categorical_accuracy: 0.8621\n",
      "Epoch 71/100\n",
      "4/4 [==============================] - 0s 5ms/step - loss: 0.3819 - sparse_categorical_accuracy: 0.9292 - val_loss: 0.4635 - val_sparse_categorical_accuracy: 0.8621\n",
      "Epoch 72/100\n",
      "4/4 [==============================] - 0s 5ms/step - loss: 0.3765 - sparse_categorical_accuracy: 0.9292 - val_loss: 0.4589 - val_sparse_categorical_accuracy: 0.8621\n",
      "Epoch 73/100\n",
      "4/4 [==============================] - 0s 5ms/step - loss: 0.3709 - sparse_categorical_accuracy: 0.9292 - val_loss: 0.4543 - val_sparse_categorical_accuracy: 0.8621\n",
      "Epoch 74/100\n",
      "4/4 [==============================] - 0s 5ms/step - loss: 0.3656 - sparse_categorical_accuracy: 0.9381 - val_loss: 0.4501 - val_sparse_categorical_accuracy: 0.8966\n",
      "Epoch 75/100\n",
      "4/4 [==============================] - 0s 5ms/step - loss: 0.3604 - sparse_categorical_accuracy: 0.9381 - val_loss: 0.4463 - val_sparse_categorical_accuracy: 0.8966\n",
      "Epoch 76/100\n",
      "4/4 [==============================] - 0s 7ms/step - loss: 0.3551 - sparse_categorical_accuracy: 0.9381 - val_loss: 0.4421 - val_sparse_categorical_accuracy: 0.8966\n",
      "Epoch 77/100\n",
      "4/4 [==============================] - 0s 4ms/step - loss: 0.3501 - sparse_categorical_accuracy: 0.9381 - val_loss: 0.4378 - val_sparse_categorical_accuracy: 0.8966\n",
      "Epoch 78/100\n",
      "4/4 [==============================] - 0s 5ms/step - loss: 0.3450 - sparse_categorical_accuracy: 0.9381 - val_loss: 0.4339 - val_sparse_categorical_accuracy: 0.8966\n",
      "Epoch 79/100\n",
      "4/4 [==============================] - 0s 5ms/step - loss: 0.3402 - sparse_categorical_accuracy: 0.9469 - val_loss: 0.4302 - val_sparse_categorical_accuracy: 0.8966\n",
      "Epoch 80/100\n",
      "4/4 [==============================] - 0s 5ms/step - loss: 0.3354 - sparse_categorical_accuracy: 0.9558 - val_loss: 0.4256 - val_sparse_categorical_accuracy: 0.8966\n",
      "Epoch 81/100\n",
      "4/4 [==============================] - 0s 5ms/step - loss: 0.3305 - sparse_categorical_accuracy: 0.9558 - val_loss: 0.4218 - val_sparse_categorical_accuracy: 0.8966\n",
      "Epoch 82/100\n",
      "4/4 [==============================] - 0s 5ms/step - loss: 0.3258 - sparse_categorical_accuracy: 0.9558 - val_loss: 0.4177 - val_sparse_categorical_accuracy: 0.8966\n",
      "Epoch 83/100\n",
      "4/4 [==============================] - 0s 5ms/step - loss: 0.3212 - sparse_categorical_accuracy: 0.9558 - val_loss: 0.4138 - val_sparse_categorical_accuracy: 0.8966\n",
      "Epoch 84/100\n",
      "4/4 [==============================] - 0s 5ms/step - loss: 0.3166 - sparse_categorical_accuracy: 0.9558 - val_loss: 0.4094 - val_sparse_categorical_accuracy: 0.8966\n",
      "Epoch 85/100\n",
      "4/4 [==============================] - 0s 5ms/step - loss: 0.3119 - sparse_categorical_accuracy: 0.9558 - val_loss: 0.4052 - val_sparse_categorical_accuracy: 0.8966\n",
      "Epoch 86/100\n",
      "4/4 [==============================] - 0s 5ms/step - loss: 0.3076 - sparse_categorical_accuracy: 0.9558 - val_loss: 0.4017 - val_sparse_categorical_accuracy: 0.8966\n",
      "Epoch 87/100\n",
      "4/4 [==============================] - 0s 5ms/step - loss: 0.3030 - sparse_categorical_accuracy: 0.9558 - val_loss: 0.3984 - val_sparse_categorical_accuracy: 0.8966\n",
      "Epoch 88/100\n",
      "4/4 [==============================] - 0s 5ms/step - loss: 0.2989 - sparse_categorical_accuracy: 0.9469 - val_loss: 0.3952 - val_sparse_categorical_accuracy: 0.8966\n",
      "Epoch 89/100\n",
      "4/4 [==============================] - 0s 5ms/step - loss: 0.2945 - sparse_categorical_accuracy: 0.9558 - val_loss: 0.3914 - val_sparse_categorical_accuracy: 0.8966\n",
      "Epoch 90/100\n",
      "4/4 [==============================] - 0s 7ms/step - loss: 0.2903 - sparse_categorical_accuracy: 0.9558 - val_loss: 0.3881 - val_sparse_categorical_accuracy: 0.8966\n",
      "Epoch 91/100\n",
      "4/4 [==============================] - 0s 5ms/step - loss: 0.2863 - sparse_categorical_accuracy: 0.9558 - val_loss: 0.3843 - val_sparse_categorical_accuracy: 0.8966\n",
      "Epoch 92/100\n",
      "4/4 [==============================] - 0s 5ms/step - loss: 0.2823 - sparse_categorical_accuracy: 0.9558 - val_loss: 0.3808 - val_sparse_categorical_accuracy: 0.8966\n",
      "Epoch 93/100\n",
      "4/4 [==============================] - 0s 5ms/step - loss: 0.2780 - sparse_categorical_accuracy: 0.9558 - val_loss: 0.3782 - val_sparse_categorical_accuracy: 0.8966\n",
      "Epoch 94/100\n",
      "4/4 [==============================] - 0s 7ms/step - loss: 0.2742 - sparse_categorical_accuracy: 0.9558 - val_loss: 0.3748 - val_sparse_categorical_accuracy: 0.8966\n",
      "Epoch 95/100\n",
      "4/4 [==============================] - 0s 5ms/step - loss: 0.2705 - sparse_categorical_accuracy: 0.9558 - val_loss: 0.3715 - val_sparse_categorical_accuracy: 0.8966\n",
      "Epoch 96/100\n",
      "4/4 [==============================] - 0s 8ms/step - loss: 0.2666 - sparse_categorical_accuracy: 0.9558 - val_loss: 0.3684 - val_sparse_categorical_accuracy: 0.8966\n",
      "Epoch 97/100\n",
      "4/4 [==============================] - 0s 5ms/step - loss: 0.2627 - sparse_categorical_accuracy: 0.9558 - val_loss: 0.3641 - val_sparse_categorical_accuracy: 0.8966\n",
      "Epoch 98/100\n",
      "4/4 [==============================] - 0s 5ms/step - loss: 0.2588 - sparse_categorical_accuracy: 0.9558 - val_loss: 0.3611 - val_sparse_categorical_accuracy: 0.8966\n",
      "Epoch 99/100\n",
      "4/4 [==============================] - 0s 6ms/step - loss: 0.2552 - sparse_categorical_accuracy: 0.9558 - val_loss: 0.3583 - val_sparse_categorical_accuracy: 0.8966\n",
      "Epoch 100/100\n",
      "4/4 [==============================] - 0s 5ms/step - loss: 0.2516 - sparse_categorical_accuracy: 0.9558 - val_loss: 0.3555 - val_sparse_categorical_accuracy: 0.8966\n"
     ]
    }
   ],
   "source": [
    "model = tf.keras.Sequential(layers=[\n",
    "    tf.keras.layers.Dense(9, activation=tf.nn.relu),\n",
    "    tf.keras.layers.Dense(10, activation=tf.nn.relu),\n",
    "    tf.keras.layers.Dense(len(np.unique(train_labels)), activation=tf.nn.softmax)])\n",
    "\n",
    "model.compile(optimizer=tf.keras.optimizers.SGD(), \n",
    "              loss=tf.keras.losses.SparseCategoricalCrossentropy(), \n",
    "              metrics=tf.keras.metrics.SparseCategoricalAccuracy())\n",
    "\n",
    "history = model.fit(train_data, train_labels, epochs=100, validation_split=0.2, verbose=1)"
   ]
  },
  {
   "cell_type": "code",
   "execution_count": 72,
   "id": "5a50908e-5c4a-4ef2-9b22-6440aecf4243",
   "metadata": {},
   "outputs": [
    {
     "name": "stdout",
     "output_type": "stream",
     "text": [
      "Model: \"sequential_11\"\n",
      "_________________________________________________________________\n",
      "Layer (type)                 Output Shape              Param #   \n",
      "=================================================================\n",
      "dense_35 (Dense)             (None, 9)                 126       \n",
      "_________________________________________________________________\n",
      "dense_36 (Dense)             (None, 10)                100       \n",
      "_________________________________________________________________\n",
      "dense_37 (Dense)             (None, 3)                 33        \n",
      "=================================================================\n",
      "Total params: 259\n",
      "Trainable params: 259\n",
      "Non-trainable params: 0\n",
      "_________________________________________________________________\n"
     ]
    }
   ],
   "source": [
    "model.summary()"
   ]
  },
  {
   "cell_type": "code",
   "execution_count": 73,
   "id": "4de06cfd-daf3-402f-9b5c-daf302d12213",
   "metadata": {},
   "outputs": [
    {
     "data": {
      "image/png": "[encoded data removed]",
      "text/plain": [
       "<Figure size 720x360 with 2 Axes>"
      ]
     },
     "metadata": {
      "needs_background": "light"
     },
     "output_type": "display_data"
    }
   ],
   "source": [
    "plt.figure(figsize=[10,5])\n",
    "plt.subplot(121)\n",
    "plt.plot(history.history['sparse_categorical_accuracy'])\n",
    "plt.plot(history.history['val_sparse_categorical_accuracy'])\n",
    "plt.xlabel('Epoch')\n",
    "plt.ylabel('Accuracy')\n",
    "plt.legend(['Training Accuracy',\n",
    "           'Validation Accuracy'])\n",
    "plt.title('Accuracy Curves')\n",
    "\n",
    "plt.subplot(122)\n",
    "plt.plot(history.history['loss'])\n",
    "plt.plot(history.history['val_loss'])\n",
    "plt.xlabel('Epoch')\n",
    "plt.ylabel('Loss')\n",
    "plt.legend(['Training Loss',\n",
    "           'Validation Loss'])\n",
    "plt.title('Loss Curves')\n",
    "plt.show()"
   ]
  },
  {
   "cell_type": "code",
   "execution_count": null,
   "id": "ba650213-2212-4db2-875f-9195902bf17d",
   "metadata": {},
   "outputs": [
    {
     "name": "stdout",
     "output_type": "stream",
     "text": [
      "2/2 [==============================] - 0s 997us/step - loss: 0.2821 - sparse_categorical_accuracy: 1.0000\n",
      "Test set loss: 0.28, test set accuracy: 100.00%\n"
     ]
    }
   ],
   "source": [
    "test_results = model.evaluate(test_data, test_labels)\n",
    "\n",
    "print(f'Test set loss: {test_results[0]:0.2f}, test set accuracy: {test_results[1]*100:0.2f}%')"
   ]
  },
  {
   "cell_type": "code",
   "execution_count": 75,
   "id": "0e17f850-deae-4412-872b-f91911156bbc",
   "metadata": {},
   "outputs": [
    {
     "data": {
      "image/png": "[encoded data removed]",
      "text/plain": [
       "<Figure size 720x360 with 2 Axes>"
      ]
     },
     "metadata": {
      "needs_background": "light"
     },
     "output_type": "display_data"
    }
   ],
   "source": [
    "plt.figure(figsize=[10,5])\n",
    "plt.subplot(121)\n",
    "plt.scatter(test_data[:,0], test_data[:,1], c=test_labels)\n",
    "plt.ylabel('Feature Dimension 1')\n",
    "plt.xlabel('Feature Dimension 0')\n",
    "plt.title('Ground Truth')\n",
    "\n",
    "plt.subplot(122)\n",
    "plt.title('Predicted Labels')\n",
    "plt.xlabel('Feature Dimension 0')\n",
    "plt.scatter(test_data[:,0], test_data[:,1], c=np.argmax(model.predict(test_data), axis=1))\n",
    "plt.show()"
   ]
  },
  {
   "cell_type": "markdown",
   "id": "499356a8-1cc6-4686-8c6a-188fe95b8860",
   "metadata": {},
   "source": [
    "TASK 4.3"
   ]
  },
  {
   "cell_type": "code",
   "execution_count": 79,
   "id": "c4685203-6913-4da6-a504-5f63c6630ca9",
   "metadata": {},
   "outputs": [
    {
     "name": "stdout",
     "output_type": "stream",
     "text": [
      "MINST sample shape: (28, 28)\n",
      "Number of training samples: 60000\n",
      "Number of testing samples: 10000\n",
      "Number of classes: 10\n"
     ]
    }
   ],
   "source": [
    "(train_data, train_labels), (test_data, test_labels) = tf.keras.datasets.mnist.load_data()\n",
    "\n",
    "print(f'MINST sample shape: {train_data.shape[1:]}')\n",
    "print(f'Number of training samples: {train_data.shape[0]}')\n",
    "print(f'Number of testing samples: {test_data.shape[0]}')\n",
    "print(f'Number of classes: {len(np.unique(train_labels))}')"
   ]
  },
  {
   "cell_type": "code",
   "execution_count": 80,
   "id": "2c408b6e-414d-4be5-954f-3aaa6b3a7ed6",
   "metadata": {},
   "outputs": [
    {
     "name": "stdout",
     "output_type": "stream",
     "text": [
      "(60000, 784)\n",
      "(10000, 784)\n"
     ]
    }
   ],
   "source": [
    "train_data_flatten = train_data.reshape((-1, 784))\n",
    "test_data_flatten = test_data.reshape((-1, 784))\n",
    "\n",
    "train_data_flatten = train_data_flatten /255\n",
    "test_data_flatten = test_data_flatten/255\n",
    "\n",
    "print(train_data_flatten.shape)\n",
    "print(test_data_flatten.shape)"
   ]
  },
  {
   "cell_type": "code",
   "execution_count": 81,
   "id": "1873ba33-7d9c-4756-97f0-64535bb9429a",
   "metadata": {},
   "outputs": [
    {
     "name": "stdout",
     "output_type": "stream",
     "text": [
      "Epoch 1/100\n",
      "1500/1500 [==============================] - 1s 661us/step - loss: 0.7486 - sparse_categorical_accuracy: 0.8012 - val_loss: 0.3435 - val_sparse_categorical_accuracy: 0.9038\n",
      "Epoch 2/100\n",
      "1500/1500 [==============================] - 1s 602us/step - loss: 0.3296 - sparse_categorical_accuracy: 0.9064 - val_loss: 0.2821 - val_sparse_categorical_accuracy: 0.9172\n",
      "Epoch 3/100\n",
      "1500/1500 [==============================] - 1s 605us/step - loss: 0.2781 - sparse_categorical_accuracy: 0.9204 - val_loss: 0.2453 - val_sparse_categorical_accuracy: 0.9307\n",
      "Epoch 4/100\n",
      "1500/1500 [==============================] - 1s 617us/step - loss: 0.2460 - sparse_categorical_accuracy: 0.9301 - val_loss: 0.2274 - val_sparse_categorical_accuracy: 0.9348\n",
      "Epoch 5/100\n",
      "1500/1500 [==============================] - 1s 598us/step - loss: 0.2216 - sparse_categorical_accuracy: 0.9351 - val_loss: 0.2041 - val_sparse_categorical_accuracy: 0.9420\n",
      "Epoch 6/100\n",
      "1500/1500 [==============================] - 1s 601us/step - loss: 0.2011 - sparse_categorical_accuracy: 0.9421 - val_loss: 0.1901 - val_sparse_categorical_accuracy: 0.9473\n",
      "Epoch 7/100\n",
      "1500/1500 [==============================] - 1s 602us/step - loss: 0.1838 - sparse_categorical_accuracy: 0.9465 - val_loss: 0.1753 - val_sparse_categorical_accuracy: 0.9500\n",
      "Epoch 8/100\n",
      "1500/1500 [==============================] - 1s 611us/step - loss: 0.1691 - sparse_categorical_accuracy: 0.9510 - val_loss: 0.1648 - val_sparse_categorical_accuracy: 0.9520\n",
      "Epoch 9/100\n",
      "1500/1500 [==============================] - 1s 603us/step - loss: 0.1556 - sparse_categorical_accuracy: 0.9545 - val_loss: 0.1592 - val_sparse_categorical_accuracy: 0.9539\n",
      "Epoch 10/100\n",
      "1500/1500 [==============================] - 1s 604us/step - loss: 0.1448 - sparse_categorical_accuracy: 0.9581 - val_loss: 0.1471 - val_sparse_categorical_accuracy: 0.9574\n",
      "Epoch 11/100\n",
      "1500/1500 [==============================] - 1s 603us/step - loss: 0.1347 - sparse_categorical_accuracy: 0.9601 - val_loss: 0.1436 - val_sparse_categorical_accuracy: 0.9591\n",
      "Epoch 12/100\n",
      "1500/1500 [==============================] - 1s 622us/step - loss: 0.1260 - sparse_categorical_accuracy: 0.9632 - val_loss: 0.1397 - val_sparse_categorical_accuracy: 0.9601\n",
      "Epoch 13/100\n",
      "1500/1500 [==============================] - 1s 604us/step - loss: 0.1185 - sparse_categorical_accuracy: 0.9655 - val_loss: 0.1357 - val_sparse_categorical_accuracy: 0.9597\n",
      "Epoch 14/100\n",
      "1500/1500 [==============================] - 1s 603us/step - loss: 0.1117 - sparse_categorical_accuracy: 0.9677 - val_loss: 0.1279 - val_sparse_categorical_accuracy: 0.9633\n",
      "Epoch 15/100\n",
      "1500/1500 [==============================] - 1s 622us/step - loss: 0.1058 - sparse_categorical_accuracy: 0.9692 - val_loss: 0.1213 - val_sparse_categorical_accuracy: 0.9667\n",
      "Epoch 16/100\n",
      "1500/1500 [==============================] - 1s 691us/step - loss: 0.1002 - sparse_categorical_accuracy: 0.9711 - val_loss: 0.1227 - val_sparse_categorical_accuracy: 0.9656\n",
      "Epoch 17/100\n",
      "1500/1500 [==============================] - 1s 635us/step - loss: 0.0948 - sparse_categorical_accuracy: 0.9726 - val_loss: 0.1171 - val_sparse_categorical_accuracy: 0.9668\n",
      "Epoch 18/100\n",
      "1500/1500 [==============================] - 1s 835us/step - loss: 0.0906 - sparse_categorical_accuracy: 0.9746 - val_loss: 0.1130 - val_sparse_categorical_accuracy: 0.9678\n",
      "Epoch 19/100\n",
      "1500/1500 [==============================] - 1s 847us/step - loss: 0.0865 - sparse_categorical_accuracy: 0.9752 - val_loss: 0.1124 - val_sparse_categorical_accuracy: 0.9683\n",
      "Epoch 20/100\n",
      "1500/1500 [==============================] - 1s 849us/step - loss: 0.0824 - sparse_categorical_accuracy: 0.9764 - val_loss: 0.1108 - val_sparse_categorical_accuracy: 0.9681\n",
      "Epoch 21/100\n",
      "1500/1500 [==============================] - 1s 794us/step - loss: 0.0788 - sparse_categorical_accuracy: 0.9780 - val_loss: 0.1091 - val_sparse_categorical_accuracy: 0.9674\n",
      "Epoch 22/100\n",
      "1500/1500 [==============================] - 1s 722us/step - loss: 0.0752 - sparse_categorical_accuracy: 0.9788 - val_loss: 0.1083 - val_sparse_categorical_accuracy: 0.9689\n",
      "Epoch 23/100\n",
      "1500/1500 [==============================] - 1s 638us/step - loss: 0.0724 - sparse_categorical_accuracy: 0.9798 - val_loss: 0.1065 - val_sparse_categorical_accuracy: 0.9702\n",
      "Epoch 24/100\n",
      "1500/1500 [==============================] - 1s 632us/step - loss: 0.0695 - sparse_categorical_accuracy: 0.9807 - val_loss: 0.1037 - val_sparse_categorical_accuracy: 0.9702\n",
      "Epoch 25/100\n",
      "1500/1500 [==============================] - 1s 662us/step - loss: 0.0667 - sparse_categorical_accuracy: 0.9811 - val_loss: 0.1021 - val_sparse_categorical_accuracy: 0.9717\n",
      "Epoch 26/100\n",
      "1500/1500 [==============================] - 1s 874us/step - loss: 0.0641 - sparse_categorical_accuracy: 0.9820 - val_loss: 0.1035 - val_sparse_categorical_accuracy: 0.9700\n",
      "Epoch 27/100\n",
      "1500/1500 [==============================] - 1s 753us/step - loss: 0.0610 - sparse_categorical_accuracy: 0.9831 - val_loss: 0.1016 - val_sparse_categorical_accuracy: 0.9722\n",
      "Epoch 28/100\n",
      "1500/1500 [==============================] - 1s 751us/step - loss: 0.0594 - sparse_categorical_accuracy: 0.9837 - val_loss: 0.1010 - val_sparse_categorical_accuracy: 0.9718\n",
      "Epoch 29/100\n",
      "1500/1500 [==============================] - 1s 778us/step - loss: 0.0569 - sparse_categorical_accuracy: 0.9841 - val_loss: 0.0993 - val_sparse_categorical_accuracy: 0.9711\n",
      "Epoch 30/100\n",
      "1500/1500 [==============================] - 1s 744us/step - loss: 0.0549 - sparse_categorical_accuracy: 0.9850 - val_loss: 0.1000 - val_sparse_categorical_accuracy: 0.9712\n",
      "Epoch 31/100\n",
      "1500/1500 [==============================] - 1s 738us/step - loss: 0.0529 - sparse_categorical_accuracy: 0.9856 - val_loss: 0.0987 - val_sparse_categorical_accuracy: 0.9720\n",
      "Epoch 32/100\n",
      "1500/1500 [==============================] - 1s 770us/step - loss: 0.0509 - sparse_categorical_accuracy: 0.9858 - val_loss: 0.0959 - val_sparse_categorical_accuracy: 0.9729\n",
      "Epoch 33/100\n",
      "1500/1500 [==============================] - 1s 765us/step - loss: 0.0492 - sparse_categorical_accuracy: 0.9865 - val_loss: 0.0961 - val_sparse_categorical_accuracy: 0.9726\n",
      "Epoch 34/100\n",
      "1500/1500 [==============================] - 1s 747us/step - loss: 0.0473 - sparse_categorical_accuracy: 0.9874 - val_loss: 0.0965 - val_sparse_categorical_accuracy: 0.9726\n",
      "Epoch 35/100\n",
      "1500/1500 [==============================] - 1s 753us/step - loss: 0.0455 - sparse_categorical_accuracy: 0.9877 - val_loss: 0.0948 - val_sparse_categorical_accuracy: 0.9730\n",
      "Epoch 36/100\n",
      "1500/1500 [==============================] - 1s 755us/step - loss: 0.0441 - sparse_categorical_accuracy: 0.9881 - val_loss: 0.0964 - val_sparse_categorical_accuracy: 0.9731\n",
      "Epoch 37/100\n",
      "1500/1500 [==============================] - 1s 752us/step - loss: 0.0424 - sparse_categorical_accuracy: 0.9893 - val_loss: 0.0947 - val_sparse_categorical_accuracy: 0.9727\n",
      "Epoch 38/100\n",
      "1500/1500 [==============================] - 1s 741us/step - loss: 0.0410 - sparse_categorical_accuracy: 0.9893 - val_loss: 0.0970 - val_sparse_categorical_accuracy: 0.9732\n",
      "Epoch 39/100\n",
      "1500/1500 [==============================] - 1s 750us/step - loss: 0.0393 - sparse_categorical_accuracy: 0.9895 - val_loss: 0.0955 - val_sparse_categorical_accuracy: 0.9734\n",
      "Epoch 40/100\n",
      "1500/1500 [==============================] - 1s 758us/step - loss: 0.0382 - sparse_categorical_accuracy: 0.9899 - val_loss: 0.0966 - val_sparse_categorical_accuracy: 0.9737\n",
      "Epoch 41/100\n",
      "1500/1500 [==============================] - 1s 751us/step - loss: 0.0371 - sparse_categorical_accuracy: 0.9901 - val_loss: 0.0959 - val_sparse_categorical_accuracy: 0.9727\n",
      "Epoch 42/100\n",
      "1500/1500 [==============================] - 1s 750us/step - loss: 0.0356 - sparse_categorical_accuracy: 0.9910 - val_loss: 0.0953 - val_sparse_categorical_accuracy: 0.9745\n",
      "Epoch 43/100\n",
      "1500/1500 [==============================] - 1s 788us/step - loss: 0.0343 - sparse_categorical_accuracy: 0.9915 - val_loss: 0.0956 - val_sparse_categorical_accuracy: 0.9730\n",
      "Epoch 44/100\n",
      "1500/1500 [==============================] - 1s 896us/step - loss: 0.0328 - sparse_categorical_accuracy: 0.9918 - val_loss: 0.0970 - val_sparse_categorical_accuracy: 0.9737\n",
      "Epoch 45/100\n",
      "1500/1500 [==============================] - 1s 965us/step - loss: 0.0323 - sparse_categorical_accuracy: 0.9920 - val_loss: 0.0949 - val_sparse_categorical_accuracy: 0.9731\n",
      "Epoch 46/100\n",
      "1500/1500 [==============================] - 2s 1ms/step - loss: 0.0310 - sparse_categorical_accuracy: 0.9924 - val_loss: 0.0956 - val_sparse_categorical_accuracy: 0.9732\n",
      "Epoch 47/100\n",
      "1500/1500 [==============================] - 1s 997us/step - loss: 0.0299 - sparse_categorical_accuracy: 0.9926 - val_loss: 0.0959 - val_sparse_categorical_accuracy: 0.9734\n",
      "Epoch 48/100\n",
      "1500/1500 [==============================] - 1s 947us/step - loss: 0.0289 - sparse_categorical_accuracy: 0.9930 - val_loss: 0.0950 - val_sparse_categorical_accuracy: 0.9737\n",
      "Epoch 49/100\n",
      "1500/1500 [==============================] - 1s 893us/step - loss: 0.0279 - sparse_categorical_accuracy: 0.9936 - val_loss: 0.0956 - val_sparse_categorical_accuracy: 0.9732\n",
      "Epoch 50/100\n",
      "1500/1500 [==============================] - 1s 762us/step - loss: 0.0269 - sparse_categorical_accuracy: 0.9936 - val_loss: 0.0947 - val_sparse_categorical_accuracy: 0.9747\n",
      "Epoch 51/100\n",
      "1500/1500 [==============================] - 1s 689us/step - loss: 0.0263 - sparse_categorical_accuracy: 0.9940 - val_loss: 0.0984 - val_sparse_categorical_accuracy: 0.9732\n",
      "Epoch 52/100\n",
      "1500/1500 [==============================] - 1s 804us/step - loss: 0.0252 - sparse_categorical_accuracy: 0.9946 - val_loss: 0.0979 - val_sparse_categorical_accuracy: 0.9738\n",
      "Epoch 53/100\n",
      "1500/1500 [==============================] - 1s 691us/step - loss: 0.0245 - sparse_categorical_accuracy: 0.9943 - val_loss: 0.0971 - val_sparse_categorical_accuracy: 0.9734\n",
      "Epoch 54/100\n",
      "1500/1500 [==============================] - 1s 689us/step - loss: 0.0237 - sparse_categorical_accuracy: 0.9946 - val_loss: 0.0977 - val_sparse_categorical_accuracy: 0.9746\n",
      "Epoch 55/100\n",
      "1500/1500 [==============================] - 1s 676us/step - loss: 0.0227 - sparse_categorical_accuracy: 0.9954 - val_loss: 0.1000 - val_sparse_categorical_accuracy: 0.9722\n",
      "Epoch 56/100\n",
      "1500/1500 [==============================] - 1s 696us/step - loss: 0.0223 - sparse_categorical_accuracy: 0.9954 - val_loss: 0.0975 - val_sparse_categorical_accuracy: 0.9748\n",
      "Epoch 57/100\n",
      "1500/1500 [==============================] - 1s 731us/step - loss: 0.0213 - sparse_categorical_accuracy: 0.9957 - val_loss: 0.0979 - val_sparse_categorical_accuracy: 0.9739\n",
      "Epoch 58/100\n",
      "1500/1500 [==============================] - 1s 683us/step - loss: 0.0209 - sparse_categorical_accuracy: 0.9956 - val_loss: 0.0978 - val_sparse_categorical_accuracy: 0.9743\n",
      "Epoch 59/100\n",
      "1500/1500 [==============================] - 1s 695us/step - loss: 0.0200 - sparse_categorical_accuracy: 0.9960 - val_loss: 0.0996 - val_sparse_categorical_accuracy: 0.9732\n",
      "Epoch 60/100\n",
      "1500/1500 [==============================] - 1s 696us/step - loss: 0.0194 - sparse_categorical_accuracy: 0.9963 - val_loss: 0.0983 - val_sparse_categorical_accuracy: 0.9739\n",
      "Epoch 61/100\n",
      "1500/1500 [==============================] - 1s 720us/step - loss: 0.0187 - sparse_categorical_accuracy: 0.9964 - val_loss: 0.1001 - val_sparse_categorical_accuracy: 0.9735\n",
      "Epoch 62/100\n",
      "1500/1500 [==============================] - 1s 766us/step - loss: 0.0182 - sparse_categorical_accuracy: 0.9967 - val_loss: 0.0988 - val_sparse_categorical_accuracy: 0.9743\n",
      "Epoch 63/100\n",
      "1500/1500 [==============================] - 1s 749us/step - loss: 0.0174 - sparse_categorical_accuracy: 0.9970 - val_loss: 0.1007 - val_sparse_categorical_accuracy: 0.9747\n",
      "Epoch 64/100\n",
      "1500/1500 [==============================] - 1s 707us/step - loss: 0.0171 - sparse_categorical_accuracy: 0.9971 - val_loss: 0.1005 - val_sparse_categorical_accuracy: 0.9737\n",
      "Epoch 65/100\n",
      "1500/1500 [==============================] - 1s 677us/step - loss: 0.0165 - sparse_categorical_accuracy: 0.9971 - val_loss: 0.1005 - val_sparse_categorical_accuracy: 0.9746\n",
      "Epoch 66/100\n",
      "1500/1500 [==============================] - 1s 711us/step - loss: 0.0159 - sparse_categorical_accuracy: 0.9977 - val_loss: 0.0994 - val_sparse_categorical_accuracy: 0.9742\n",
      "Epoch 67/100\n",
      "1500/1500 [==============================] - 1s 678us/step - loss: 0.0153 - sparse_categorical_accuracy: 0.9977 - val_loss: 0.1014 - val_sparse_categorical_accuracy: 0.9747\n",
      "Epoch 68/100\n",
      "1500/1500 [==============================] - 1s 689us/step - loss: 0.0151 - sparse_categorical_accuracy: 0.9977 - val_loss: 0.1004 - val_sparse_categorical_accuracy: 0.9744\n",
      "Epoch 69/100\n",
      "1500/1500 [==============================] - 1s 677us/step - loss: 0.0144 - sparse_categorical_accuracy: 0.9980 - val_loss: 0.1014 - val_sparse_categorical_accuracy: 0.9740\n",
      "Epoch 70/100\n",
      "1500/1500 [==============================] - 1s 671us/step - loss: 0.0140 - sparse_categorical_accuracy: 0.9980 - val_loss: 0.1052 - val_sparse_categorical_accuracy: 0.9745\n",
      "Epoch 71/100\n",
      "1500/1500 [==============================] - 1s 685us/step - loss: 0.0137 - sparse_categorical_accuracy: 0.9982 - val_loss: 0.1031 - val_sparse_categorical_accuracy: 0.9753\n",
      "Epoch 72/100\n",
      "1500/1500 [==============================] - 1s 718us/step - loss: 0.0132 - sparse_categorical_accuracy: 0.9983 - val_loss: 0.1038 - val_sparse_categorical_accuracy: 0.9743\n",
      "Epoch 73/100\n",
      "1500/1500 [==============================] - 1s 722us/step - loss: 0.0128 - sparse_categorical_accuracy: 0.9984 - val_loss: 0.1018 - val_sparse_categorical_accuracy: 0.9741\n",
      "Epoch 74/100\n",
      "1500/1500 [==============================] - 1s 677us/step - loss: 0.0124 - sparse_categorical_accuracy: 0.9985 - val_loss: 0.1036 - val_sparse_categorical_accuracy: 0.9748\n",
      "Epoch 75/100\n",
      "1500/1500 [==============================] - 1s 682us/step - loss: 0.0120 - sparse_categorical_accuracy: 0.9985 - val_loss: 0.1052 - val_sparse_categorical_accuracy: 0.9743\n",
      "Epoch 76/100\n",
      "1500/1500 [==============================] - 1s 679us/step - loss: 0.0116 - sparse_categorical_accuracy: 0.9986 - val_loss: 0.1056 - val_sparse_categorical_accuracy: 0.9745\n",
      "Epoch 77/100\n",
      "1500/1500 [==============================] - 1s 681us/step - loss: 0.0113 - sparse_categorical_accuracy: 0.9986 - val_loss: 0.1057 - val_sparse_categorical_accuracy: 0.9744\n",
      "Epoch 78/100\n",
      "1500/1500 [==============================] - 1s 698us/step - loss: 0.0109 - sparse_categorical_accuracy: 0.9988 - val_loss: 0.1067 - val_sparse_categorical_accuracy: 0.9743\n",
      "Epoch 79/100\n",
      "1500/1500 [==============================] - 1s 670us/step - loss: 0.0106 - sparse_categorical_accuracy: 0.9988 - val_loss: 0.1073 - val_sparse_categorical_accuracy: 0.9747\n",
      "Epoch 80/100\n",
      "1500/1500 [==============================] - 1s 676us/step - loss: 0.0103 - sparse_categorical_accuracy: 0.9988 - val_loss: 0.1078 - val_sparse_categorical_accuracy: 0.9739\n",
      "Epoch 81/100\n",
      "1500/1500 [==============================] - 1s 686us/step - loss: 0.0100 - sparse_categorical_accuracy: 0.9989 - val_loss: 0.1077 - val_sparse_categorical_accuracy: 0.9751\n",
      "Epoch 82/100\n",
      "1500/1500 [==============================] - 1s 718us/step - loss: 0.0097 - sparse_categorical_accuracy: 0.9990 - val_loss: 0.1078 - val_sparse_categorical_accuracy: 0.9745\n",
      "Epoch 83/100\n",
      "1500/1500 [==============================] - 1s 733us/step - loss: 0.0094 - sparse_categorical_accuracy: 0.9990 - val_loss: 0.1090 - val_sparse_categorical_accuracy: 0.9740\n",
      "Epoch 84/100\n",
      "1500/1500 [==============================] - 1s 730us/step - loss: 0.0091 - sparse_categorical_accuracy: 0.9990 - val_loss: 0.1086 - val_sparse_categorical_accuracy: 0.9743\n",
      "Epoch 85/100\n",
      "1500/1500 [==============================] - 1s 733us/step - loss: 0.0089 - sparse_categorical_accuracy: 0.9992 - val_loss: 0.1075 - val_sparse_categorical_accuracy: 0.9753\n",
      "Epoch 86/100\n",
      "1500/1500 [==============================] - 1s 769us/step - loss: 0.0086 - sparse_categorical_accuracy: 0.9991 - val_loss: 0.1096 - val_sparse_categorical_accuracy: 0.9745\n",
      "Epoch 87/100\n",
      "1500/1500 [==============================] - 1s 723us/step - loss: 0.0084 - sparse_categorical_accuracy: 0.9993 - val_loss: 0.1097 - val_sparse_categorical_accuracy: 0.9742\n",
      "Epoch 88/100\n",
      "1500/1500 [==============================] - 1s 676us/step - loss: 0.0081 - sparse_categorical_accuracy: 0.9993 - val_loss: 0.1101 - val_sparse_categorical_accuracy: 0.9749\n",
      "Epoch 89/100\n",
      "1500/1500 [==============================] - 1s 656us/step - loss: 0.0079 - sparse_categorical_accuracy: 0.9993 - val_loss: 0.1102 - val_sparse_categorical_accuracy: 0.9747\n",
      "Epoch 90/100\n",
      "1500/1500 [==============================] - 1s 661us/step - loss: 0.0076 - sparse_categorical_accuracy: 0.9994 - val_loss: 0.1106 - val_sparse_categorical_accuracy: 0.9747\n",
      "Epoch 91/100\n",
      "1500/1500 [==============================] - 1s 650us/step - loss: 0.0075 - sparse_categorical_accuracy: 0.9994 - val_loss: 0.1120 - val_sparse_categorical_accuracy: 0.9741\n",
      "Epoch 92/100\n",
      "1500/1500 [==============================] - 1s 652us/step - loss: 0.0073 - sparse_categorical_accuracy: 0.9994 - val_loss: 0.1111 - val_sparse_categorical_accuracy: 0.9753\n",
      "Epoch 93/100\n",
      "1500/1500 [==============================] - 1s 651us/step - loss: 0.0070 - sparse_categorical_accuracy: 0.9996 - val_loss: 0.1119 - val_sparse_categorical_accuracy: 0.9747\n",
      "Epoch 94/100\n",
      "1500/1500 [==============================] - 1s 651us/step - loss: 0.0068 - sparse_categorical_accuracy: 0.9994 - val_loss: 0.1118 - val_sparse_categorical_accuracy: 0.9753\n",
      "Epoch 95/100\n",
      "1500/1500 [==============================] - 1s 650us/step - loss: 0.0067 - sparse_categorical_accuracy: 0.9995 - val_loss: 0.1135 - val_sparse_categorical_accuracy: 0.9745\n",
      "Epoch 96/100\n",
      "1500/1500 [==============================] - 1s 651us/step - loss: 0.0064 - sparse_categorical_accuracy: 0.9996 - val_loss: 0.1133 - val_sparse_categorical_accuracy: 0.9750\n",
      "Epoch 97/100\n",
      "1500/1500 [==============================] - 1s 664us/step - loss: 0.0064 - sparse_categorical_accuracy: 0.9996 - val_loss: 0.1142 - val_sparse_categorical_accuracy: 0.9744\n",
      "Epoch 98/100\n",
      "1500/1500 [==============================] - 1s 715us/step - loss: 0.0062 - sparse_categorical_accuracy: 0.9996 - val_loss: 0.1146 - val_sparse_categorical_accuracy: 0.9744\n",
      "Epoch 99/100\n",
      "1500/1500 [==============================] - 1s 681us/step - loss: 0.0059 - sparse_categorical_accuracy: 0.9996 - val_loss: 0.1142 - val_sparse_categorical_accuracy: 0.9753\n",
      "Epoch 100/100\n",
      "1500/1500 [==============================] - 1s 679us/step - loss: 0.0058 - sparse_categorical_accuracy: 0.9996 - val_loss: 0.1147 - val_sparse_categorical_accuracy: 0.9747\n"
     ]
    }
   ],
   "source": [
    "model = tf.keras.Sequential(layers=[\n",
    "    tf.keras.layers.Dense(64, activation=tf.nn.relu),\n",
    "    tf.keras.layers.Dense(64, activation=tf.nn.relu),\n",
    "    tf.keras.layers.Dense(len(np.unique(train_labels)), activation=tf.nn.softmax)])\n",
    "\n",
    "model.compile(optimizer=tf.keras.optimizers.SGD(), \n",
    "              loss=tf.keras.losses.SparseCategoricalCrossentropy(), \n",
    "              metrics=tf.keras.metrics.SparseCategoricalAccuracy())\n",
    "\n",
    "history = model.fit(train_data_flatten, train_labels, epochs=100, validation_split=0.2, verbose=1)"
   ]
  },
  {
   "cell_type": "code",
   "execution_count": 82,
   "id": "442ec3db-cda1-403d-bc67-ee76c29ea5a7",
   "metadata": {},
   "outputs": [
    {
     "name": "stdout",
     "output_type": "stream",
     "text": [
      "Model: \"sequential_12\"\n",
      "_________________________________________________________________\n",
      "Layer (type)                 Output Shape              Param #   \n",
      "=================================================================\n",
      "dense_38 (Dense)             (32, 64)                  50240     \n",
      "_________________________________________________________________\n",
      "dense_39 (Dense)             (32, 64)                  4160      \n",
      "_________________________________________________________________\n",
      "dense_40 (Dense)             (32, 10)                  650       \n",
      "=================================================================\n",
      "Total params: 55,050\n",
      "Trainable params: 55,050\n",
      "Non-trainable params: 0\n",
      "_________________________________________________________________\n"
     ]
    }
   ],
   "source": [
    "model.summary()"
   ]
  },
  {
   "cell_type": "code",
   "execution_count": 87,
   "id": "4670b531-c880-423d-89ac-6b5724ddbd59",
   "metadata": {},
   "outputs": [
    {
     "data": {
      "image/png": "[encoded data removed]",
      "text/plain": [
       "<Figure size 720x360 with 2 Axes>"
      ]
     },
     "metadata": {
      "needs_background": "light"
     },
     "output_type": "display_data"
    }
   ],
   "source": [
    "plt.figure(figsize=[10,5])\n",
    "plt.subplot(121)\n",
    "plt.plot(history.history['sparse_categorical_accuracy'])\n",
    "plt.plot(history.history['val_sparse_categorical_accuracy'])\n",
    "plt.xlabel('Epoch')\n",
    "plt.ylabel('Accuracy')\n",
    "plt.legend(['Training Accuracy',\n",
    "           'Validation Accuracy'])\n",
    "plt.title('Accuracy Curves')\n",
    "\n",
    "plt.subplot(122)\n",
    "plt.plot(history.history['loss'])\n",
    "plt.plot(history.history['val_loss'])\n",
    "plt.xlabel('Epoch')\n",
    "plt.ylabel('Loss')\n",
    "plt.legend(['Training Loss',\n",
    "           'Validation Loss'])\n",
    "plt.title('Loss Curves')\n",
    "plt.show()"
   ]
  },
  {
   "cell_type": "code",
   "execution_count": 92,
   "id": "feffd370-2b94-4be0-b958-d30d3cc5b693",
   "metadata": {},
   "outputs": [
    {
     "name": "stdout",
     "output_type": "stream",
     "text": [
      "313/313 [==============================] - 0s 731us/step - loss: 0.1015 - sparse_categorical_accuracy: 0.9769\n",
      "Test set loss: 0.10, test set accuracy: 97.69%\n"
     ]
    }
   ],
   "source": [
    "test_results = model.evaluate(test_data_flatten, test_labels)\n",
    "\n",
    "print(f'Test set loss: {test_results[0]:0.2f}, test set accuracy: {test_results[1]*100:0.2f}%')"
   ]
  },
  {
   "cell_type": "markdown",
   "id": "d9832353-e052-4d70-9ad7-9e88a05e6ac2",
   "metadata": {},
   "source": [
    "TASK 4.4"
   ]
  },
  {
   "cell_type": "code",
   "execution_count": 107,
   "id": "b5202359-3e3a-4759-bd83-aaefda40f058",
   "metadata": {},
   "outputs": [
    {
     "name": "stdout",
     "output_type": "stream",
     "text": [
      "MINST sample shape: (28, 28)\n",
      "Number of training samples: 60000\n",
      "Number of testing samples: 10000\n",
      "Number of classes: 10\n"
     ]
    }
   ],
   "source": [
    "(train_data, train_labels), (test_data, test_labels) = tf.keras.datasets.mnist.load_data()\n",
    "\n",
    "print(f'MINST sample shape: {train_data.shape[1:]}')\n",
    "print(f'Number of training samples: {train_data.shape[0]}')\n",
    "print(f'Number of testing samples: {test_data.shape[0]}')\n",
    "print(f'Number of classes: {len(np.unique(train_labels))}')"
   ]
  },
  {
   "cell_type": "code",
   "execution_count": 108,
   "id": "ff91267c-843e-4fee-b9b8-778a1966d89a",
   "metadata": {},
   "outputs": [
    {
     "name": "stdout",
     "output_type": "stream",
     "text": [
      "(60000, 28, 28, 1)\n",
      "(10000, 28, 28, 1)\n"
     ]
    }
   ],
   "source": [
    "train_data = np.expand_dims(train_data, axis=-1)\n",
    "test_data= np.expand_dims(test_data, axis=-1)\n",
    "\n",
    "train_data = train_data/255\n",
    "test_data = test_data/255\n",
    "\n",
    "print(train_data.shape)\n",
    "print(test_data.shape)"
   ]
  },
  {
   "cell_type": "code",
   "execution_count": 116,
   "id": "74c92253-ce81-486d-86d9-0f8dfddf1728",
   "metadata": {},
   "outputs": [
    {
     "name": "stdout",
     "output_type": "stream",
     "text": [
      "Epoch 1/100\n",
      "1500/1500 [==============================] - 11s 7ms/step - loss: 0.3268 - sparse_categorical_accuracy: 0.9067 - val_loss: 0.1880 - val_sparse_categorical_accuracy: 0.9480\n",
      "Epoch 2/100\n",
      "1500/1500 [==============================] - 11s 7ms/step - loss: 0.1613 - sparse_categorical_accuracy: 0.9534 - val_loss: 0.1358 - val_sparse_categorical_accuracy: 0.9607\n",
      "Epoch 3/100\n",
      "1500/1500 [==============================] - 11s 7ms/step - loss: 0.1194 - sparse_categorical_accuracy: 0.9664 - val_loss: 0.1092 - val_sparse_categorical_accuracy: 0.9684\n",
      "Epoch 4/100\n",
      "1500/1500 [==============================] - 11s 7ms/step - loss: 0.0953 - sparse_categorical_accuracy: 0.9722 - val_loss: 0.1162 - val_sparse_categorical_accuracy: 0.9680\n",
      "Epoch 5/100\n",
      "1500/1500 [==============================] - 11s 7ms/step - loss: 0.0795 - sparse_categorical_accuracy: 0.9775 - val_loss: 0.0934 - val_sparse_categorical_accuracy: 0.9718\n",
      "Epoch 6/100\n",
      "1500/1500 [==============================] - 11s 7ms/step - loss: 0.0679 - sparse_categorical_accuracy: 0.9812 - val_loss: 0.0757 - val_sparse_categorical_accuracy: 0.9772\n",
      "Epoch 7/100\n",
      "1500/1500 [==============================] - 11s 7ms/step - loss: 0.0590 - sparse_categorical_accuracy: 0.9839 - val_loss: 0.0694 - val_sparse_categorical_accuracy: 0.9800\n",
      "Epoch 8/100\n",
      "1500/1500 [==============================] - 11s 7ms/step - loss: 0.0524 - sparse_categorical_accuracy: 0.9856 - val_loss: 0.0684 - val_sparse_categorical_accuracy: 0.9807\n",
      "Epoch 9/100\n",
      "1500/1500 [==============================] - 11s 7ms/step - loss: 0.0465 - sparse_categorical_accuracy: 0.9877 - val_loss: 0.0677 - val_sparse_categorical_accuracy: 0.9802\n",
      "Epoch 10/100\n",
      "1500/1500 [==============================] - 11s 8ms/step - loss: 0.0419 - sparse_categorical_accuracy: 0.9889 - val_loss: 0.0622 - val_sparse_categorical_accuracy: 0.9827\n",
      "Epoch 11/100\n",
      "1500/1500 [==============================] - 11s 7ms/step - loss: 0.0374 - sparse_categorical_accuracy: 0.9900 - val_loss: 0.0633 - val_sparse_categorical_accuracy: 0.9808\n",
      "Epoch 12/100\n",
      "1500/1500 [==============================] - 11s 7ms/step - loss: 0.0345 - sparse_categorical_accuracy: 0.9914 - val_loss: 0.0702 - val_sparse_categorical_accuracy: 0.9782\n",
      "Epoch 13/100\n",
      "1500/1500 [==============================] - 12s 8ms/step - loss: 0.0313 - sparse_categorical_accuracy: 0.9919 - val_loss: 0.0568 - val_sparse_categorical_accuracy: 0.9837\n",
      "Epoch 14/100\n",
      "1500/1500 [==============================] - 12s 8ms/step - loss: 0.0290 - sparse_categorical_accuracy: 0.9925 - val_loss: 0.0581 - val_sparse_categorical_accuracy: 0.9823\n",
      "Epoch 15/100\n",
      "1500/1500 [==============================] - 12s 8ms/step - loss: 0.0266 - sparse_categorical_accuracy: 0.9929 - val_loss: 0.0558 - val_sparse_categorical_accuracy: 0.9833\n",
      "Epoch 16/100\n",
      "1500/1500 [==============================] - 12s 8ms/step - loss: 0.0243 - sparse_categorical_accuracy: 0.9938 - val_loss: 0.0584 - val_sparse_categorical_accuracy: 0.9834\n",
      "Epoch 17/100\n",
      "1500/1500 [==============================] - 11s 8ms/step - loss: 0.0223 - sparse_categorical_accuracy: 0.9946 - val_loss: 0.0545 - val_sparse_categorical_accuracy: 0.9842\n",
      "Epoch 18/100\n",
      "1500/1500 [==============================] - 11s 7ms/step - loss: 0.0203 - sparse_categorical_accuracy: 0.9951 - val_loss: 0.0524 - val_sparse_categorical_accuracy: 0.9852\n",
      "Epoch 19/100\n",
      "1500/1500 [==============================] - 11s 7ms/step - loss: 0.0191 - sparse_categorical_accuracy: 0.9954 - val_loss: 0.0545 - val_sparse_categorical_accuracy: 0.9839\n",
      "Epoch 20/100\n",
      "1500/1500 [==============================] - 11s 7ms/step - loss: 0.0178 - sparse_categorical_accuracy: 0.9958 - val_loss: 0.0556 - val_sparse_categorical_accuracy: 0.9843\n",
      "Epoch 21/100\n",
      "1500/1500 [==============================] - 11s 7ms/step - loss: 0.0166 - sparse_categorical_accuracy: 0.9961 - val_loss: 0.0564 - val_sparse_categorical_accuracy: 0.9835\n",
      "Epoch 22/100\n",
      "1500/1500 [==============================] - 11s 7ms/step - loss: 0.0154 - sparse_categorical_accuracy: 0.9965 - val_loss: 0.0590 - val_sparse_categorical_accuracy: 0.9831\n",
      "Epoch 23/100\n",
      "1500/1500 [==============================] - 12s 8ms/step - loss: 0.0139 - sparse_categorical_accuracy: 0.9972 - val_loss: 0.0592 - val_sparse_categorical_accuracy: 0.9841\n",
      "Epoch 24/100\n",
      "1500/1500 [==============================] - 12s 8ms/step - loss: 0.0129 - sparse_categorical_accuracy: 0.9974 - val_loss: 0.0537 - val_sparse_categorical_accuracy: 0.9837\n",
      "Epoch 25/100\n",
      "1500/1500 [==============================] - 12s 8ms/step - loss: 0.0119 - sparse_categorical_accuracy: 0.9977 - val_loss: 0.0531 - val_sparse_categorical_accuracy: 0.9844\n",
      "Epoch 26/100\n",
      "1500/1500 [==============================] - 12s 8ms/step - loss: 0.0112 - sparse_categorical_accuracy: 0.9979 - val_loss: 0.0569 - val_sparse_categorical_accuracy: 0.9840\n",
      "Epoch 27/100\n",
      "1500/1500 [==============================] - 12s 8ms/step - loss: 0.0105 - sparse_categorical_accuracy: 0.9981 - val_loss: 0.0522 - val_sparse_categorical_accuracy: 0.9856\n",
      "Epoch 28/100\n",
      "1500/1500 [==============================] - 12s 8ms/step - loss: 0.0096 - sparse_categorical_accuracy: 0.9984 - val_loss: 0.0570 - val_sparse_categorical_accuracy: 0.9836\n",
      "Epoch 29/100\n",
      "1500/1500 [==============================] - 12s 8ms/step - loss: 0.0091 - sparse_categorical_accuracy: 0.9986 - val_loss: 0.0536 - val_sparse_categorical_accuracy: 0.9844\n",
      "Epoch 30/100\n",
      "1500/1500 [==============================] - 12s 8ms/step - loss: 0.0085 - sparse_categorical_accuracy: 0.9987 - val_loss: 0.0524 - val_sparse_categorical_accuracy: 0.9848\n",
      "Epoch 31/100\n",
      "1500/1500 [==============================] - 12s 8ms/step - loss: 0.0080 - sparse_categorical_accuracy: 0.9989 - val_loss: 0.0540 - val_sparse_categorical_accuracy: 0.9851\n",
      "Epoch 32/100\n",
      "1500/1500 [==============================] - 12s 8ms/step - loss: 0.0076 - sparse_categorical_accuracy: 0.9991 - val_loss: 0.0526 - val_sparse_categorical_accuracy: 0.9848\n",
      "Epoch 33/100\n",
      "1500/1500 [==============================] - 13s 9ms/step - loss: 0.0070 - sparse_categorical_accuracy: 0.9992 - val_loss: 0.0538 - val_sparse_categorical_accuracy: 0.9847\n",
      "Epoch 34/100\n",
      "1500/1500 [==============================] - 14s 9ms/step - loss: 0.0064 - sparse_categorical_accuracy: 0.9993 - val_loss: 0.0527 - val_sparse_categorical_accuracy: 0.9855\n",
      "Epoch 35/100\n",
      "1500/1500 [==============================] - 14s 9ms/step - loss: 0.0062 - sparse_categorical_accuracy: 0.9993 - val_loss: 0.0513 - val_sparse_categorical_accuracy: 0.9856\n",
      "Epoch 36/100\n",
      "1500/1500 [==============================] - 14s 9ms/step - loss: 0.0057 - sparse_categorical_accuracy: 0.9995 - val_loss: 0.0535 - val_sparse_categorical_accuracy: 0.9852\n",
      "Epoch 37/100\n",
      "1500/1500 [==============================] - 14s 9ms/step - loss: 0.0054 - sparse_categorical_accuracy: 0.9995 - val_loss: 0.0528 - val_sparse_categorical_accuracy: 0.9858\n",
      "Epoch 38/100\n",
      "1500/1500 [==============================] - 13s 9ms/step - loss: 0.0051 - sparse_categorical_accuracy: 0.9995 - val_loss: 0.0534 - val_sparse_categorical_accuracy: 0.9855\n",
      "Epoch 39/100\n",
      "1500/1500 [==============================] - 13s 9ms/step - loss: 0.0048 - sparse_categorical_accuracy: 0.9996 - val_loss: 0.0535 - val_sparse_categorical_accuracy: 0.9856\n",
      "Epoch 40/100\n",
      "1500/1500 [==============================] - 13s 9ms/step - loss: 0.0046 - sparse_categorical_accuracy: 0.9997 - val_loss: 0.0541 - val_sparse_categorical_accuracy: 0.9843\n",
      "Epoch 41/100\n",
      "1500/1500 [==============================] - 13s 9ms/step - loss: 0.0044 - sparse_categorical_accuracy: 0.9996 - val_loss: 0.0536 - val_sparse_categorical_accuracy: 0.9858\n",
      "Epoch 42/100\n",
      "1500/1500 [==============================] - 15s 10ms/step - loss: 0.0043 - sparse_categorical_accuracy: 0.9997 - val_loss: 0.0535 - val_sparse_categorical_accuracy: 0.9853\n",
      "Epoch 43/100\n",
      "1500/1500 [==============================] - 15s 10ms/step - loss: 0.0039 - sparse_categorical_accuracy: 0.9999 - val_loss: 0.0528 - val_sparse_categorical_accuracy: 0.9859\n",
      "Epoch 44/100\n",
      "1500/1500 [==============================] - 15s 10ms/step - loss: 0.0038 - sparse_categorical_accuracy: 0.9998 - val_loss: 0.0535 - val_sparse_categorical_accuracy: 0.9857\n",
      "Epoch 45/100\n",
      "1500/1500 [==============================] - 15s 10ms/step - loss: 0.0036 - sparse_categorical_accuracy: 0.9998 - val_loss: 0.0534 - val_sparse_categorical_accuracy: 0.9855\n",
      "Epoch 46/100\n",
      "1500/1500 [==============================] - 15s 10ms/step - loss: 0.0034 - sparse_categorical_accuracy: 0.9998 - val_loss: 0.0544 - val_sparse_categorical_accuracy: 0.9856\n",
      "Epoch 47/100\n",
      "1500/1500 [==============================] - 15s 10ms/step - loss: 0.0032 - sparse_categorical_accuracy: 0.9999 - val_loss: 0.0547 - val_sparse_categorical_accuracy: 0.9857\n",
      "Epoch 48/100\n",
      "1500/1500 [==============================] - 15s 10ms/step - loss: 0.0031 - sparse_categorical_accuracy: 1.0000 - val_loss: 0.0543 - val_sparse_categorical_accuracy: 0.9858\n",
      "Epoch 49/100\n",
      "1500/1500 [==============================] - 15s 10ms/step - loss: 0.0030 - sparse_categorical_accuracy: 0.9999 - val_loss: 0.0535 - val_sparse_categorical_accuracy: 0.9856\n",
      "Epoch 50/100\n",
      "1500/1500 [==============================] - 17s 11ms/step - loss: 0.0029 - sparse_categorical_accuracy: 0.9999 - val_loss: 0.0559 - val_sparse_categorical_accuracy: 0.9856\n",
      "Epoch 51/100\n",
      "1500/1500 [==============================] - 16s 11ms/step - loss: 0.0027 - sparse_categorical_accuracy: 1.0000 - val_loss: 0.0554 - val_sparse_categorical_accuracy: 0.9852\n",
      "Epoch 52/100\n",
      "1500/1500 [==============================] - 16s 10ms/step - loss: 0.0027 - sparse_categorical_accuracy: 0.9999 - val_loss: 0.0543 - val_sparse_categorical_accuracy: 0.9861\n",
      "Epoch 53/100\n",
      "1500/1500 [==============================] - 15s 10ms/step - loss: 0.0025 - sparse_categorical_accuracy: 0.9999 - val_loss: 0.0554 - val_sparse_categorical_accuracy: 0.9852\n",
      "Epoch 54/100\n",
      "1500/1500 [==============================] - 14s 9ms/step - loss: 0.0025 - sparse_categorical_accuracy: 0.9999 - val_loss: 0.0553 - val_sparse_categorical_accuracy: 0.9858\n",
      "Epoch 55/100\n",
      "1500/1500 [==============================] - 13s 9ms/step - loss: 0.0024 - sparse_categorical_accuracy: 0.9999 - val_loss: 0.0564 - val_sparse_categorical_accuracy: 0.9858\n",
      "Epoch 56/100\n",
      "1500/1500 [==============================] - 13s 9ms/step - loss: 0.0023 - sparse_categorical_accuracy: 0.9999 - val_loss: 0.0553 - val_sparse_categorical_accuracy: 0.9856\n",
      "Epoch 57/100\n",
      "1500/1500 [==============================] - 13s 9ms/step - loss: 0.0022 - sparse_categorical_accuracy: 1.0000 - val_loss: 0.0558 - val_sparse_categorical_accuracy: 0.9854\n",
      "Epoch 58/100\n",
      "1500/1500 [==============================] - 15s 10ms/step - loss: 0.0021 - sparse_categorical_accuracy: 1.0000 - val_loss: 0.0563 - val_sparse_categorical_accuracy: 0.9859\n",
      "Epoch 59/100\n",
      "1500/1500 [==============================] - 15s 10ms/step - loss: 0.0021 - sparse_categorical_accuracy: 1.0000 - val_loss: 0.0551 - val_sparse_categorical_accuracy: 0.9859\n",
      "Epoch 60/100\n",
      "1500/1500 [==============================] - 15s 10ms/step - loss: 0.0020 - sparse_categorical_accuracy: 1.0000 - val_loss: 0.0562 - val_sparse_categorical_accuracy: 0.9859\n",
      "Epoch 61/100\n",
      "1500/1500 [==============================] - 15s 10ms/step - loss: 0.0019 - sparse_categorical_accuracy: 1.0000 - val_loss: 0.0558 - val_sparse_categorical_accuracy: 0.9860\n",
      "Epoch 62/100\n",
      "1500/1500 [==============================] - 15s 10ms/step - loss: 0.0019 - sparse_categorical_accuracy: 1.0000 - val_loss: 0.0564 - val_sparse_categorical_accuracy: 0.9857\n",
      "Epoch 63/100\n",
      "1500/1500 [==============================] - 14s 9ms/step - loss: 0.0018 - sparse_categorical_accuracy: 1.0000 - val_loss: 0.0560 - val_sparse_categorical_accuracy: 0.9862\n",
      "Epoch 64/100\n",
      "1500/1500 [==============================] - 14s 9ms/step - loss: 0.0018 - sparse_categorical_accuracy: 1.0000 - val_loss: 0.0569 - val_sparse_categorical_accuracy: 0.9858\n",
      "Epoch 65/100\n",
      "1500/1500 [==============================] - 14s 9ms/step - loss: 0.0018 - sparse_categorical_accuracy: 1.0000 - val_loss: 0.0572 - val_sparse_categorical_accuracy: 0.9862\n",
      "Epoch 66/100\n",
      "1500/1500 [==============================] - 14s 9ms/step - loss: 0.0017 - sparse_categorical_accuracy: 1.0000 - val_loss: 0.0562 - val_sparse_categorical_accuracy: 0.9859\n",
      "Epoch 67/100\n",
      "1500/1500 [==============================] - 15s 10ms/step - loss: 0.0016 - sparse_categorical_accuracy: 1.0000 - val_loss: 0.0569 - val_sparse_categorical_accuracy: 0.9861\n",
      "Epoch 68/100\n",
      "1500/1500 [==============================] - 16s 10ms/step - loss: 0.0016 - sparse_categorical_accuracy: 1.0000 - val_loss: 0.0565 - val_sparse_categorical_accuracy: 0.9862\n",
      "Epoch 69/100\n",
      "1500/1500 [==============================] - 15s 10ms/step - loss: 0.0016 - sparse_categorical_accuracy: 1.0000 - val_loss: 0.0579 - val_sparse_categorical_accuracy: 0.9858\n",
      "Epoch 70/100\n",
      "1500/1500 [==============================] - 15s 10ms/step - loss: 0.0015 - sparse_categorical_accuracy: 1.0000 - val_loss: 0.0564 - val_sparse_categorical_accuracy: 0.9858\n",
      "Epoch 71/100\n",
      "1500/1500 [==============================] - 14s 9ms/step - loss: 0.0015 - sparse_categorical_accuracy: 1.0000 - val_loss: 0.0568 - val_sparse_categorical_accuracy: 0.9863\n",
      "Epoch 72/100\n",
      "1500/1500 [==============================] - 15s 10ms/step - loss: 0.0015 - sparse_categorical_accuracy: 1.0000 - val_loss: 0.0570 - val_sparse_categorical_accuracy: 0.9861\n",
      "Epoch 73/100\n",
      "1500/1500 [==============================] - 16s 11ms/step - loss: 0.0014 - sparse_categorical_accuracy: 1.0000 - val_loss: 0.0569 - val_sparse_categorical_accuracy: 0.9859\n",
      "Epoch 74/100\n",
      "1500/1500 [==============================] - 16s 11ms/step - loss: 0.0014 - sparse_categorical_accuracy: 1.0000 - val_loss: 0.0572 - val_sparse_categorical_accuracy: 0.9860\n",
      "Epoch 75/100\n",
      "1500/1500 [==============================] - 16s 10ms/step - loss: 0.0013 - sparse_categorical_accuracy: 1.0000 - val_loss: 0.0572 - val_sparse_categorical_accuracy: 0.9862\n",
      "Epoch 76/100\n",
      "1500/1500 [==============================] - 16s 10ms/step - loss: 0.0013 - sparse_categorical_accuracy: 1.0000 - val_loss: 0.0575 - val_sparse_categorical_accuracy: 0.9861\n",
      "Epoch 77/100\n",
      "1500/1500 [==============================] - 16s 11ms/step - loss: 0.0013 - sparse_categorical_accuracy: 1.0000 - val_loss: 0.0581 - val_sparse_categorical_accuracy: 0.9861\n",
      "Epoch 78/100\n",
      "1500/1500 [==============================] - 16s 10ms/step - loss: 0.0013 - sparse_categorical_accuracy: 1.0000 - val_loss: 0.0572 - val_sparse_categorical_accuracy: 0.9862\n",
      "Epoch 79/100\n",
      "1500/1500 [==============================] - 16s 10ms/step - loss: 0.0012 - sparse_categorical_accuracy: 1.0000 - val_loss: 0.0582 - val_sparse_categorical_accuracy: 0.9859\n",
      "Epoch 80/100\n",
      "1500/1500 [==============================] - 16s 10ms/step - loss: 0.0012 - sparse_categorical_accuracy: 1.0000 - val_loss: 0.0588 - val_sparse_categorical_accuracy: 0.9855\n",
      "Epoch 81/100\n",
      "1500/1500 [==============================] - 16s 11ms/step - loss: 0.0012 - sparse_categorical_accuracy: 1.0000 - val_loss: 0.0578 - val_sparse_categorical_accuracy: 0.9862\n",
      "Epoch 82/100\n",
      "1500/1500 [==============================] - 16s 11ms/step - loss: 0.0012 - sparse_categorical_accuracy: 1.0000 - val_loss: 0.0582 - val_sparse_categorical_accuracy: 0.9860\n",
      "Epoch 83/100\n",
      "1500/1500 [==============================] - 16s 10ms/step - loss: 0.0011 - sparse_categorical_accuracy: 1.0000 - val_loss: 0.0579 - val_sparse_categorical_accuracy: 0.9862\n",
      "Epoch 84/100\n",
      "1500/1500 [==============================] - 16s 10ms/step - loss: 0.0011 - sparse_categorical_accuracy: 1.0000 - val_loss: 0.0582 - val_sparse_categorical_accuracy: 0.9862\n",
      "Epoch 85/100\n",
      "1500/1500 [==============================] - 16s 10ms/step - loss: 0.0011 - sparse_categorical_accuracy: 1.0000 - val_loss: 0.0589 - val_sparse_categorical_accuracy: 0.9858\n",
      "Epoch 86/100\n",
      "1500/1500 [==============================] - 16s 11ms/step - loss: 0.0011 - sparse_categorical_accuracy: 1.0000 - val_loss: 0.0578 - val_sparse_categorical_accuracy: 0.9862\n",
      "Epoch 87/100\n",
      "1500/1500 [==============================] - 16s 11ms/step - loss: 0.0010 - sparse_categorical_accuracy: 1.0000 - val_loss: 0.0590 - val_sparse_categorical_accuracy: 0.9858\n",
      "Epoch 88/100\n",
      "1500/1500 [==============================] - 16s 10ms/step - loss: 0.0010 - sparse_categorical_accuracy: 1.0000 - val_loss: 0.0590 - val_sparse_categorical_accuracy: 0.9861\n",
      "Epoch 89/100\n",
      "1500/1500 [==============================] - 15s 10ms/step - loss: 0.0010 - sparse_categorical_accuracy: 1.0000 - val_loss: 0.0594 - val_sparse_categorical_accuracy: 0.9858\n",
      "Epoch 90/100\n",
      "1500/1500 [==============================] - 16s 10ms/step - loss: 9.8653e-04 - sparse_categorical_accuracy: 1.0000 - val_loss: 0.0594 - val_sparse_categorical_accuracy: 0.9862\n",
      "Epoch 91/100\n",
      "1500/1500 [==============================] - 16s 11ms/step - loss: 9.7085e-04 - sparse_categorical_accuracy: 1.0000 - val_loss: 0.0592 - val_sparse_categorical_accuracy: 0.9860\n",
      "Epoch 92/100\n",
      "1500/1500 [==============================] - 16s 11ms/step - loss: 9.4382e-04 - sparse_categorical_accuracy: 1.0000 - val_loss: 0.0598 - val_sparse_categorical_accuracy: 0.9860\n",
      "Epoch 93/100\n",
      "1500/1500 [==============================] - 16s 11ms/step - loss: 9.3311e-04 - sparse_categorical_accuracy: 1.0000 - val_loss: 0.0598 - val_sparse_categorical_accuracy: 0.9859\n",
      "Epoch 94/100\n",
      "1500/1500 [==============================] - 16s 11ms/step - loss: 9.2145e-04 - sparse_categorical_accuracy: 1.0000 - val_loss: 0.0597 - val_sparse_categorical_accuracy: 0.9859\n",
      "Epoch 95/100\n",
      "1500/1500 [==============================] - 16s 10ms/step - loss: 8.9893e-04 - sparse_categorical_accuracy: 1.0000 - val_loss: 0.0590 - val_sparse_categorical_accuracy: 0.9863\n",
      "Epoch 96/100\n",
      "1500/1500 [==============================] - 15s 10ms/step - loss: 8.9609e-04 - sparse_categorical_accuracy: 1.0000 - val_loss: 0.0595 - val_sparse_categorical_accuracy: 0.9863\n",
      "Epoch 97/100\n",
      "1500/1500 [==============================] - 16s 11ms/step - loss: 8.7540e-04 - sparse_categorical_accuracy: 1.0000 - val_loss: 0.0602 - val_sparse_categorical_accuracy: 0.9860\n",
      "Epoch 98/100\n",
      "1500/1500 [==============================] - 16s 10ms/step - loss: 8.6152e-04 - sparse_categorical_accuracy: 1.0000 - val_loss: 0.0598 - val_sparse_categorical_accuracy: 0.9861\n",
      "Epoch 99/100\n",
      "1500/1500 [==============================] - 15s 10ms/step - loss: 8.4610e-04 - sparse_categorical_accuracy: 1.0000 - val_loss: 0.0598 - val_sparse_categorical_accuracy: 0.9861\n",
      "Epoch 100/100\n",
      "1500/1500 [==============================] - 16s 10ms/step - loss: 8.2448e-04 - sparse_categorical_accuracy: 1.0000 - val_loss: 0.0606 - val_sparse_categorical_accuracy: 0.9859\n"
     ]
    }
   ],
   "source": [
    "model = tf.keras.Sequential(layers=[\n",
    "    tf.keras.layers.Conv2D(32, (3, 3), activation='relu', kernel_initializer='he_uniform', input_shape=(28, 28, 1)),\n",
    "    tf.keras.layers.MaxPooling2D((2, 2)),\n",
    "    tf.keras.layers.Flatten(),\n",
    "    tf.keras.layers.Dense(100, activation='relu', kernel_initializer='he_uniform'),\n",
    "    tf.keras.layers.Dense(len(np.unique(train_labels)), activation=tf.nn.softmax)])\n",
    "\n",
    "model.compile(optimizer=tf.keras.optimizers.SGD(), \n",
    "              loss=tf.keras.losses.SparseCategoricalCrossentropy(), \n",
    "              metrics=tf.keras.metrics.SparseCategoricalAccuracy())\n",
    "\n",
    "history = model.fit(train_data, train_labels, epochs=100, validation_split=0.2, verbose=1)"
   ]
  },
  {
   "cell_type": "code",
   "execution_count": 117,
   "id": "5b737b0f-4c0c-4b6f-8448-6540fd2b2351",
   "metadata": {},
   "outputs": [
    {
     "name": "stdout",
     "output_type": "stream",
     "text": [
      "Model: \"sequential_16\"\n",
      "_________________________________________________________________\n",
      "Layer (type)                 Output Shape              Param #   \n",
      "=================================================================\n",
      "conv2d_3 (Conv2D)            (None, 26, 26, 32)        320       \n",
      "_________________________________________________________________\n",
      "max_pooling2d (MaxPooling2D) (None, 13, 13, 32)        0         \n",
      "_________________________________________________________________\n",
      "flatten (Flatten)            (None, 5408)              0         \n",
      "_________________________________________________________________\n",
      "dense_47 (Dense)             (None, 100)               540900    \n",
      "_________________________________________________________________\n",
      "dense_48 (Dense)             (None, 10)                1010      \n",
      "=================================================================\n",
      "Total params: 542,230\n",
      "Trainable params: 542,230\n",
      "Non-trainable params: 0\n",
      "_________________________________________________________________\n"
     ]
    }
   ],
   "source": [
    "model.summary()"
   ]
  },
  {
   "cell_type": "code",
   "execution_count": 118,
   "id": "ddd77676-967b-4e87-87da-56f1521576ce",
   "metadata": {},
   "outputs": [
    {
     "data": {
      "image/png": "[encoded data removed]",
      "text/plain": [
       "<Figure size 720x360 with 2 Axes>"
      ]
     },
     "metadata": {
      "needs_background": "light"
     },
     "output_type": "display_data"
    }
   ],
   "source": [
    "plt.figure(figsize=[10,5])\n",
    "plt.subplot(121)\n",
    "plt.plot(history.history['sparse_categorical_accuracy'])\n",
    "plt.plot(history.history['val_sparse_categorical_accuracy'])\n",
    "plt.xlabel('Epoch')\n",
    "plt.ylabel('Accuracy')\n",
    "plt.legend(['Training Accuracy',\n",
    "           'Validation Accuracy'])\n",
    "plt.title('Accuracy Curves')\n",
    "\n",
    "plt.subplot(122)\n",
    "plt.plot(history.history['loss'])\n",
    "plt.plot(history.history['val_loss'])\n",
    "plt.xlabel('Epoch')\n",
    "plt.ylabel('Loss')\n",
    "plt.legend(['Training Loss',\n",
    "           'Validation Loss'])\n",
    "plt.title('Loss Curves')\n",
    "plt.show()"
   ]
  },
  {
   "cell_type": "code",
   "execution_count": 119,
   "id": "e4ae2ecb-3acd-4380-91ad-eab08aa495a0",
   "metadata": {},
   "outputs": [
    {
     "name": "stdout",
     "output_type": "stream",
     "text": [
      "313/313 [==============================] - 1s 4ms/step - loss: 0.0449 - sparse_categorical_accuracy: 0.9872\n",
      "Test set loss: 0.04, test set accuracy: 98.72%\n"
     ]
    }
   ],
   "source": [
    "test_results = model.evaluate(test_data, test_labels)\n",
    "\n",
    "print(f'Test set loss: {test_results[0]:0.2f}, test set accuracy: {test_results[1]*100:0.2f}%')"
   ]
  },
  {
   "cell_type": "code",
   "execution_count": null,
   "id": "0854ba49-4931-4e6e-9c87-481c7bee20cb",
   "metadata": {},
   "outputs": [],
   "source": []
  }
 ],
 "metadata": {
  "kernelspec": {
   "display_name": "Python 3 (ipykernel)",
   "language": "python",
   "name": "python3"
  },
  "language_info": {
   "codemirror_mode": {
    "name": "ipython",
    "version": 3
   },
   "file_extension": ".py",
   "mimetype": "text/x-python",
   "name": "python",
   "nbconvert_exporter": "python",
   "pygments_lexer": "ipython3",
   "version": "3.9.0"
  }
 },
 "nbformat": 4,
 "nbformat_minor": 5
}
