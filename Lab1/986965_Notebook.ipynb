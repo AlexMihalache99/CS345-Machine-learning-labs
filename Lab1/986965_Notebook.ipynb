{
 "cells": [
  {
   "cell_type": "markdown",
   "id": "a026d439-a6c8-4419-9386-f437b88cf737",
   "metadata": {},
   "source": [
    "Catalin Alexandru Mihalache 27.09.2021 986965"
   ]
  },
  {
   "cell_type": "code",
   "execution_count": 28,
   "id": "f1b91c09-3f57-4042-8669-b64e138154d3",
   "metadata": {},
   "outputs": [],
   "source": [
    "import numpy as np\n",
    "from numpy.random import randint\n",
    "import  matplotlib.pyplot  as plt"
   ]
  },
  {
   "cell_type": "markdown",
   "id": "e494894d-d2a4-45d4-857c-a0f6f367284e",
   "metadata": {},
   "source": [
    "TASK 1.1"
   ]
  },
  {
   "cell_type": "code",
   "execution_count": null,
   "id": "a263bd62-95e3-4e3d-aed1-e475496fc27c",
   "metadata": {},
   "outputs": [
    {
     "name": "stdout",
     "output_type": "stream",
     "text": [
      "2x+5³=815\n"
     ]
    }
   ],
   "source": [
    "x = 345\n",
    "print( f'2x+5\\N{superscript three}={2*x + 5*5*5}')\n",
    "    "
   ]
  },
  {
   "cell_type": "code",
   "execution_count": 14,
   "id": "9c1f8d02-2f4b-4ed3-b481-1fe25294b46e",
   "metadata": {},
   "outputs": [
    {
     "name": "stdout",
     "output_type": "stream",
     "text": [
      "Hello World\n"
     ]
    }
   ],
   "source": [
    "print(\"Hello World\")"
   ]
  },
  {
   "cell_type": "code",
   "execution_count": 22,
   "id": "f1a9d6f6-6355-4521-9a29-543e46dfa8fe",
   "metadata": {},
   "outputs": [],
   "source": [
    "def f(w, x, b):\n",
    "    return w*x + b\n"
   ]
  },
  {
   "cell_type": "code",
   "execution_count": 25,
   "id": "3ee9b338-def0-42b2-a59c-ddbd2342e809",
   "metadata": {},
   "outputs": [
    {
     "name": "stdout",
     "output_type": "stream",
     "text": [
      "wx+b=815\n"
     ]
    }
   ],
   "source": [
    "print(f'wx+b={f(345, 2,5*5*5)}')"
   ]
  },
  {
   "cell_type": "markdown",
   "id": "d1726526-4f9b-45df-bc46-0d9b38726321",
   "metadata": {},
   "source": [
    "TASK 1.2"
   ]
  },
  {
   "cell_type": "code",
   "execution_count": 36,
   "id": "c5cc33e4-3ca9-46b4-989e-bc4bbd6bd9ac",
   "metadata": {},
   "outputs": [
    {
     "name": "stdout",
     "output_type": "stream",
     "text": [
      "5\n",
      "tiger\n",
      "lion\n",
      "fish\n",
      "dog\n",
      "cat\n"
     ]
    }
   ],
   "source": [
    "mylist = [\"cat\", \"dog\", \"fish\", \"lion\", \"tiger\"]\n",
    "print(len(mylist))\n",
    "\n",
    "for i in range(len(mylist) - 1, -1, -1):\n",
    "    print(mylist[i])"
   ]
  },
  {
   "cell_type": "code",
   "execution_count": 37,
   "id": "3efdee97-34a4-4afe-b5b1-172bb9f4a1cf",
   "metadata": {},
   "outputs": [],
   "source": [
    "def equals_100(x):\n",
    "    if x == 100:\n",
    "        return True\n",
    "    return False"
   ]
  },
  {
   "cell_type": "code",
   "execution_count": 38,
   "id": "44f4d668-35e7-4788-aeb6-38c5900e3f88",
   "metadata": {},
   "outputs": [
    {
     "name": "stdout",
     "output_type": "stream",
     "text": [
      "True\n",
      "False\n"
     ]
    }
   ],
   "source": [
    "print(equals_100(100))\n",
    "print(equals_100(99))"
   ]
  },
  {
   "cell_type": "code",
   "execution_count": 11,
   "id": "a71c247c-f934-4042-9b83-1d0dc407213c",
   "metadata": {},
   "outputs": [
    {
     "name": "stdout",
     "output_type": "stream",
     "text": [
      "Animal counts\n"
     ]
    }
   ],
   "source": [
    "my_dictionary = {\n",
    "    \"data_name\" : \"Animal counts\",\n",
    "    \"label\" : [\"cat\", \"dog\", \"fish\"],\n",
    "    \"count\" : [2, 5, 10]\n",
    "}\n",
    "data = my_dictionary.values()\n",
    "data_list = list(data)\n",
    "value = data_list[0]\n",
    "print(value)"
   ]
  },
  {
   "cell_type": "code",
   "execution_count": null,
   "id": "14e5dd74-dbed-4d96-809b-941f510026e1",
   "metadata": {},
   "outputs": [
    {
     "name": "stdout",
     "output_type": "stream",
     "text": [
      "Animal name: dog, count: 5\n"
     ]
    }
   ],
   "source": [
    "print(f'Animal name: {data_list[1][1]}, count: {data_list[2][1]}"
   ]
  },
  {
   "cell_type": "markdown",
   "id": "0a3bf35d-0fe0-4ed7-9a6d-408cd6fc658a",
   "metadata": {},
   "source": [
    "TASK 1.3"
   ]
  },
  {
   "cell_type": "code",
   "execution_count": 22,
   "id": "deb372eb-e410-4620-8ea5-5a17ff911722",
   "metadata": {},
   "outputs": [
    {
     "name": "stdout",
     "output_type": "stream",
     "text": [
      "[[1.29840388 0.80737598 0.74146504 0.95204752]\n",
      " [1.07536575 0.82606591 0.64649125 0.39705742]]\n"
     ]
    }
   ],
   "source": [
    "A = np.random.rand(2,3)\n",
    "B = np.random.rand(3,4)\n",
    "\n",
    "C = A @ B # matrix multiplication\n",
    "print(C)\n"
   ]
  },
  {
   "cell_type": "code",
   "execution_count": 29,
   "id": "ad7e095d-c0bf-4c5e-82a1-4bf43711691d",
   "metadata": {},
   "outputs": [
    {
     "name": "stdout",
     "output_type": "stream",
     "text": [
      "[1.29840388 1.07536575]\n"
     ]
    }
   ],
   "source": [
    "print(C[:,0]) # printing 1st column"
   ]
  },
  {
   "cell_type": "markdown",
   "id": "0b3bfb3f-c3ca-4b63-bd72-cbdd87e9e6e8",
   "metadata": {},
   "source": [
    "TASK 1.4"
   ]
  },
  {
   "cell_type": "code",
   "execution_count": 78,
   "id": "6545af43-1b48-411c-8c14-af153ec476ec",
   "metadata": {},
   "outputs": [
    {
     "name": "stdout",
     "output_type": "stream",
     "text": [
      "(150, 4)\n"
     ]
    }
   ],
   "source": [
    "data = np.load(\"Iris_data.npy\")\n",
    "print(data.shape)"
   ]
  },
  {
   "cell_type": "code",
   "execution_count": 85,
   "id": "b1f2c69f-d2b9-486c-a9d0-a368ebe6204b",
   "metadata": {},
   "outputs": [
    {
     "data": {
      "image/png": "[encoded data removed]",
      "text/plain": [
       "<Figure size 432x288 with 1 Axes>"
      ]
     },
     "metadata": {
      "needs_background": "light"
     },
     "output_type": "display_data"
    }
   ],
   "source": [
    "plt.figure() #create new canvas\n",
    "plt.scatter(data[:, 0], data [:, 1]) #Plot data as a scatter plot\n",
    "\n",
    "# 0 - sepal lenght\n",
    "# 1 - sepal width\n",
    "# 2 - petal length\n",
    "# 3 - petal width\n",
    "plt.xlabel(\"Sepal length\") \n",
    "plt.ylabel(\"Sepal width\")\n",
    "plt.title(\"Fisher Iris dataset\")\n",
    "\n",
    "plt.show()\n"
   ]
  },
  {
   "cell_type": "code",
   "execution_count": null,
   "id": "d461dfc8-68f5-468e-b094-5d50e1c0939c",
   "metadata": {},
   "outputs": [],
   "source": []
  }
 ],
 "metadata": {
  "kernelspec": {
   "display_name": "Python 3 (ipykernel)",
   "language": "python",
   "name": "python3"
  },
  "language_info": {
   "codemirror_mode": {
    "name": "ipython",
    "version": 3
   },
   "file_extension": ".py",
   "mimetype": "text/x-python",
   "name": "python",
   "nbconvert_exporter": "python",
   "pygments_lexer": "ipython3",
   "version": "3.9.0"
  }
 },
 "nbformat": 4,
 "nbformat_minor": 5
}
